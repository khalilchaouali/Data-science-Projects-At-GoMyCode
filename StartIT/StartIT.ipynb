{
  "nbformat": 4,
  "nbformat_minor": 0,
  "metadata": {
    "colab": {
      "name": "StartIT.ipynb",
      "provenance": [],
      "collapsed_sections": []
    },
    "kernelspec": {
      "name": "python3",
      "display_name": "Python 3"
    }
  },
  "cells": [
    {
      "cell_type": "markdown",
      "metadata": {
        "id": "ThG_cL5AEz8N"
      },
      "source": [
        "## **Based on the project idea, and other aspects of the startup,This system will tell you if you'll get funded or not.** "
      ]
    },
    {
      "cell_type": "code",
      "metadata": {
        "id": "viHA85QpEtl5"
      },
      "source": [
        "import numpy as np\n",
        "import pandas as pd \n",
        "import datetime\n",
        "import time\n",
        "import matplotlib.pyplot as plt\n",
        "import seaborn as sns"
      ],
      "execution_count": null,
      "outputs": []
    },
    {
      "cell_type": "code",
      "metadata": {
        "id": "tej83muyFE_y"
      },
      "source": [
        "train = pd.read_csv('train.csv', engine='python', encoding='utf-8', error_bad_lines=False, sep=',')"
      ],
      "execution_count": null,
      "outputs": []
    },
    {
      "cell_type": "code",
      "metadata": {
        "id": "NHJ8xyaCXxW3"
      },
      "source": [
        "train2 = pd.read_csv('train.csv', engine='python', encoding='utf-8', error_bad_lines=False, sep=',')"
      ],
      "execution_count": null,
      "outputs": []
    },
    {
      "cell_type": "code",
      "metadata": {
        "id": "5tGhv5qOIOXS",
        "outputId": "0bc5ff1d-f337-4360-f9fb-55f5bc2221a5",
        "colab": {
          "base_uri": "https://localhost:8080/",
          "height": 584
        }
      },
      "source": [
        "train.head()"
      ],
      "execution_count": null,
      "outputs": [
        {
          "output_type": "execute_result",
          "data": {
            "text/html": [
              "<div>\n",
              "<style scoped>\n",
              "    .dataframe tbody tr th:only-of-type {\n",
              "        vertical-align: middle;\n",
              "    }\n",
              "\n",
              "    .dataframe tbody tr th {\n",
              "        vertical-align: top;\n",
              "    }\n",
              "\n",
              "    .dataframe thead th {\n",
              "        text-align: right;\n",
              "    }\n",
              "</style>\n",
              "<table border=\"1\" class=\"dataframe\">\n",
              "  <thead>\n",
              "    <tr style=\"text-align: right;\">\n",
              "      <th></th>\n",
              "      <th>project_id</th>\n",
              "      <th>name</th>\n",
              "      <th>desc</th>\n",
              "      <th>goal</th>\n",
              "      <th>keywords</th>\n",
              "      <th>disable_communication</th>\n",
              "      <th>country</th>\n",
              "      <th>currency</th>\n",
              "      <th>deadline</th>\n",
              "      <th>state_changed_at</th>\n",
              "      <th>created_at</th>\n",
              "      <th>launched_at</th>\n",
              "      <th>backers_count</th>\n",
              "      <th>final_status</th>\n",
              "    </tr>\n",
              "  </thead>\n",
              "  <tbody>\n",
              "    <tr>\n",
              "      <th>0</th>\n",
              "      <td>kkst1451568084</td>\n",
              "      <td>drawing for dollars</td>\n",
              "      <td>I like drawing pictures. and then i color them...</td>\n",
              "      <td>20.0</td>\n",
              "      <td>drawing-for-dollars</td>\n",
              "      <td>False</td>\n",
              "      <td>US</td>\n",
              "      <td>USD</td>\n",
              "      <td>1241333999</td>\n",
              "      <td>1241334017</td>\n",
              "      <td>1240600507</td>\n",
              "      <td>1240602723</td>\n",
              "      <td>3</td>\n",
              "      <td>1</td>\n",
              "    </tr>\n",
              "    <tr>\n",
              "      <th>1</th>\n",
              "      <td>kkst1474482071</td>\n",
              "      <td>Sponsor Dereck Blackburn (Lostwars) Artist in ...</td>\n",
              "      <td>I, Dereck Blackburn will be taking upon an inc...</td>\n",
              "      <td>300.0</td>\n",
              "      <td>sponsor-dereck-blackburn-lostwars-artist-in-re...</td>\n",
              "      <td>False</td>\n",
              "      <td>US</td>\n",
              "      <td>USD</td>\n",
              "      <td>1242429000</td>\n",
              "      <td>1242432018</td>\n",
              "      <td>1240960224</td>\n",
              "      <td>1240975592</td>\n",
              "      <td>2</td>\n",
              "      <td>0</td>\n",
              "    </tr>\n",
              "    <tr>\n",
              "      <th>2</th>\n",
              "      <td>kkst183622197</td>\n",
              "      <td>Mr. Squiggles</td>\n",
              "      <td>So I saw darkpony's successfully funded drawin...</td>\n",
              "      <td>30.0</td>\n",
              "      <td>mr-squiggles</td>\n",
              "      <td>False</td>\n",
              "      <td>US</td>\n",
              "      <td>USD</td>\n",
              "      <td>1243027560</td>\n",
              "      <td>1243027818</td>\n",
              "      <td>1242163613</td>\n",
              "      <td>1242164398</td>\n",
              "      <td>0</td>\n",
              "      <td>0</td>\n",
              "    </tr>\n",
              "    <tr>\n",
              "      <th>3</th>\n",
              "      <td>kkst597742710</td>\n",
              "      <td>Help me write my second novel.</td>\n",
              "      <td>Do your part to help out starving artists and ...</td>\n",
              "      <td>500.0</td>\n",
              "      <td>help-me-write-my-second-novel</td>\n",
              "      <td>False</td>\n",
              "      <td>US</td>\n",
              "      <td>USD</td>\n",
              "      <td>1243555740</td>\n",
              "      <td>1243556121</td>\n",
              "      <td>1240963795</td>\n",
              "      <td>1240966730</td>\n",
              "      <td>18</td>\n",
              "      <td>1</td>\n",
              "    </tr>\n",
              "    <tr>\n",
              "      <th>4</th>\n",
              "      <td>kkst1913131122</td>\n",
              "      <td>Support casting my sculpture in bronze</td>\n",
              "      <td>I'm nearing completion on a sculpture, current...</td>\n",
              "      <td>2000.0</td>\n",
              "      <td>support-casting-my-sculpture-in-bronze</td>\n",
              "      <td>False</td>\n",
              "      <td>US</td>\n",
              "      <td>USD</td>\n",
              "      <td>1243769880</td>\n",
              "      <td>1243770317</td>\n",
              "      <td>1241177914</td>\n",
              "      <td>1241180541</td>\n",
              "      <td>1</td>\n",
              "      <td>0</td>\n",
              "    </tr>\n",
              "  </tbody>\n",
              "</table>\n",
              "</div>"
            ],
            "text/plain": [
              "       project_id  ... final_status\n",
              "0  kkst1451568084  ...            1\n",
              "1  kkst1474482071  ...            0\n",
              "2   kkst183622197  ...            0\n",
              "3   kkst597742710  ...            1\n",
              "4  kkst1913131122  ...            0\n",
              "\n",
              "[5 rows x 14 columns]"
            ]
          },
          "metadata": {
            "tags": []
          },
          "execution_count": 126
        }
      ]
    },
    {
      "cell_type": "code",
      "metadata": {
        "id": "zD61ckJlIRdR",
        "outputId": "97e7d888-bd4d-4c38-e8ed-4b04449bb8bf",
        "colab": {
          "base_uri": "https://localhost:8080/",
          "height": 34
        }
      },
      "source": [
        "train.shape"
      ],
      "execution_count": null,
      "outputs": [
        {
          "output_type": "execute_result",
          "data": {
            "text/plain": [
              "(108129, 14)"
            ]
          },
          "metadata": {
            "tags": []
          },
          "execution_count": 127
        }
      ]
    },
    {
      "cell_type": "code",
      "metadata": {
        "id": "LnpMfYJOKFsE",
        "outputId": "d66bd918-66dc-4b6b-e068-068192810444",
        "colab": {
          "base_uri": "https://localhost:8080/",
          "height": 390
        }
      },
      "source": [
        "train.info()"
      ],
      "execution_count": null,
      "outputs": [
        {
          "output_type": "stream",
          "text": [
            "<class 'pandas.core.frame.DataFrame'>\n",
            "RangeIndex: 108129 entries, 0 to 108128\n",
            "Data columns (total 14 columns):\n",
            " #   Column                 Non-Null Count   Dtype  \n",
            "---  ------                 --------------   -----  \n",
            " 0   project_id             108129 non-null  object \n",
            " 1   name                   108126 non-null  object \n",
            " 2   desc                   108120 non-null  object \n",
            " 3   goal                   108129 non-null  float64\n",
            " 4   keywords               108129 non-null  object \n",
            " 5   disable_communication  108129 non-null  bool   \n",
            " 6   country                108129 non-null  object \n",
            " 7   currency               108129 non-null  object \n",
            " 8   deadline               108129 non-null  int64  \n",
            " 9   state_changed_at       108129 non-null  int64  \n",
            " 10  created_at             108129 non-null  int64  \n",
            " 11  launched_at            108129 non-null  int64  \n",
            " 12  backers_count          108129 non-null  int64  \n",
            " 13  final_status           108129 non-null  int64  \n",
            "dtypes: bool(1), float64(1), int64(6), object(6)\n",
            "memory usage: 10.8+ MB\n"
          ],
          "name": "stdout"
        }
      ]
    },
    {
      "cell_type": "code",
      "metadata": {
        "id": "ui9vnRA5TrxL"
      },
      "source": [
        "train=train.dropna()"
      ],
      "execution_count": null,
      "outputs": []
    },
    {
      "cell_type": "code",
      "metadata": {
        "id": "TwsemFM6KIgk",
        "outputId": "01cfaa90-9d64-4283-85d1-35e244698595",
        "colab": {
          "base_uri": "https://localhost:8080/",
          "height": 35
        }
      },
      "source": [
        "train['keywords'][1]"
      ],
      "execution_count": null,
      "outputs": [
        {
          "output_type": "execute_result",
          "data": {
            "application/vnd.google.colaboratory.intrinsic+json": {
              "type": "string"
            },
            "text/plain": [
              "'sponsor-dereck-blackburn-lostwars-artist-in-residence-in-kankakee-illinois'"
            ]
          },
          "metadata": {
            "tags": []
          },
          "execution_count": 130
        }
      ]
    },
    {
      "cell_type": "code",
      "metadata": {
        "id": "Dz4X5nZVKRfR",
        "outputId": "950fa3ab-35bd-49b2-b689-322119a5696d",
        "colab": {
          "base_uri": "https://localhost:8080/",
          "height": 34
        }
      },
      "source": [
        "timestamp =124542124\n",
        "value = datetime.datetime.fromtimestamp(timestamp)\n",
        "exct_time = value.strftime('%d %B %Y')\n",
        "exct_time=datetime.datetime.strptime(exct_time,'%d %B %Y')\n",
        "exct_time.month"
      ],
      "execution_count": null,
      "outputs": [
        {
          "output_type": "execute_result",
          "data": {
            "text/plain": [
              "12"
            ]
          },
          "metadata": {
            "tags": []
          },
          "execution_count": 131
        }
      ]
    },
    {
      "cell_type": "code",
      "metadata": {
        "id": "DEL3-jNLzeXE"
      },
      "source": [
        "deadline=[]\n",
        "for i in train['deadline']:\n",
        "  value=datetime.datetime.fromtimestamp(i)\n",
        "  final=value.strftime('%d %B %Y')\n",
        "  final=datetime.datetime.strptime(final,'%d %B %Y')\n",
        "  deadline.append(final)\n",
        "state=[]\n",
        "for i in train['state_changed_at']:\n",
        "  value=datetime.datetime.fromtimestamp(i)\n",
        "  final=value.strftime('%d %B %Y')\n",
        "  final=datetime.datetime.strptime(final,'%d %B %Y')\n",
        "  state.append(final)\n",
        "created=[]\n",
        "launched=[]\n",
        "launched_month=[]\n",
        "launched_year=[]\n",
        "for i in train['created_at']:\n",
        "  value=datetime.datetime.fromtimestamp(i)\n",
        "  final=value.strftime('%d %B %Y')\n",
        "  final=datetime.datetime.strptime(final,'%d %B %Y')\n",
        "  created.append(final)\n",
        "for i in train['launched_at']:\n",
        "  value=datetime.datetime.fromtimestamp(i)\n",
        "  final=value.strftime('%d %B %Y')\n",
        "  final=datetime.datetime.strptime(final,'%d %B %Y')\n",
        "  y=final.month\n",
        "  x=final.year\n",
        "  launched_month.append(y)\n",
        "  launched_year.append(x)\n",
        "  launched.append(final)"
      ],
      "execution_count": null,
      "outputs": []
    },
    {
      "cell_type": "code",
      "metadata": {
        "id": "myUqe2BuGjy3"
      },
      "source": [
        "gap=(np.array(deadline)-np.array(created))"
      ],
      "execution_count": null,
      "outputs": []
    },
    {
      "cell_type": "code",
      "metadata": {
        "id": "otsN7qKldBVR"
      },
      "source": [
        "crea=((np.array(launched)-np.array(created)))\n",
        "crealaunch=[]\n",
        "for i in crea:\n",
        "  i=i.days\n",
        "  crealaunch.append(i)"
      ],
      "execution_count": null,
      "outputs": []
    },
    {
      "cell_type": "code",
      "metadata": {
        "id": "BFHchDhuwnnI"
      },
      "source": [
        "statelaun=((np.array(state)-np.array(launched)))\n",
        "statelaunch=[]\n",
        "for i in statelaun:\n",
        "  i=i.days\n",
        "  statelaunch.append(i)"
      ],
      "execution_count": null,
      "outputs": []
    },
    {
      "cell_type": "code",
      "metadata": {
        "id": "wsm7NkoPHTUs"
      },
      "source": [
        "gapp=[]\n",
        "for i in gap:\n",
        "  i=i.days\n",
        "  gapp.append(i)"
      ],
      "execution_count": null,
      "outputs": []
    },
    {
      "cell_type": "code",
      "metadata": {
        "id": "kspre9MXIPMF",
        "outputId": "42a4f471-6b6d-4d30-a44d-818df51b2a78",
        "colab": {
          "base_uri": "https://localhost:8080/",
          "height": 34
        }
      },
      "source": [
        "len(gapp)"
      ],
      "execution_count": null,
      "outputs": [
        {
          "output_type": "execute_result",
          "data": {
            "text/plain": [
              "108119"
            ]
          },
          "metadata": {
            "tags": []
          },
          "execution_count": 137
        }
      ]
    },
    {
      "cell_type": "code",
      "metadata": {
        "id": "k20KpmgBJERU"
      },
      "source": [
        "train.insert(9, \"tdiff\", gapp, True) "
      ],
      "execution_count": null,
      "outputs": []
    },
    {
      "cell_type": "code",
      "metadata": {
        "id": "MUDgHhxpdX1T"
      },
      "source": [
        "train.insert(13,'crealaunch',crealaunch,True)"
      ],
      "execution_count": null,
      "outputs": []
    },
    {
      "cell_type": "code",
      "metadata": {
        "id": "-DyJJQ-TI3EB"
      },
      "source": [
        "train.insert(14,'statelaunch',statelaunch,True)"
      ],
      "execution_count": null,
      "outputs": []
    },
    {
      "cell_type": "code",
      "metadata": {
        "id": "ZIfrO85Kz0X4"
      },
      "source": [
        "train.insert(12,'month_launched',launched_month,True)"
      ],
      "execution_count": null,
      "outputs": []
    },
    {
      "cell_type": "code",
      "metadata": {
        "id": "kcPAqglI3wBf"
      },
      "source": [
        "train.insert(11,'year_launched',launched_year,True)"
      ],
      "execution_count": null,
      "outputs": []
    },
    {
      "cell_type": "code",
      "metadata": {
        "id": "vsnF_tbQ0HIT",
        "outputId": "871f94ca-9a29-4fd2-bdf9-ffc1782da112",
        "colab": {
          "base_uri": "https://localhost:8080/",
          "height": 34
        }
      },
      "source": [
        "int((deadline[0]-deadline[10]).days)"
      ],
      "execution_count": null,
      "outputs": [
        {
          "output_type": "execute_result",
          "data": {
            "text/plain": [
              "-43"
            ]
          },
          "metadata": {
            "tags": []
          },
          "execution_count": 143
        }
      ]
    },
    {
      "cell_type": "code",
      "metadata": {
        "id": "xpMbHF2g7Onh"
      },
      "source": [
        "train['deadline']=deadline\n",
        "train['state_changed_at']=state\n",
        "train['created_at']=created\n",
        "train['launched_at']=launched"
      ],
      "execution_count": null,
      "outputs": []
    },
    {
      "cell_type": "code",
      "metadata": {
        "id": "VLo2W5WOyirP",
        "outputId": "8e396826-3562-4ab7-a3da-f654f231cd1d",
        "colab": {
          "base_uri": "https://localhost:8080/",
          "height": 34
        }
      },
      "source": [
        "train['deadline'].dtype"
      ],
      "execution_count": null,
      "outputs": [
        {
          "output_type": "execute_result",
          "data": {
            "text/plain": [
              "dtype('<M8[ns]')"
            ]
          },
          "metadata": {
            "tags": []
          },
          "execution_count": 145
        }
      ]
    },
    {
      "cell_type": "markdown",
      "metadata": {
        "id": "b-e9ANUIPLXd"
      },
      "source": [
        "**Preprocessing the data**"
      ]
    },
    {
      "cell_type": "code",
      "metadata": {
        "id": "s2xhX5zbtM9O",
        "outputId": "1bf0f2c7-76a2-4ff0-d2bf-425822656809",
        "colab": {
          "base_uri": "https://localhost:8080/",
          "height": 105
        }
      },
      "source": [
        "train['name'][8]=train['keywords'][8].split('-')[0]+' ' +train['keywords'][8].split('-')[1]+' '+train['keywords'][8].split('-')[2]+' '+train['keywords'][8].split('-')[3]"
      ],
      "execution_count": null,
      "outputs": [
        {
          "output_type": "stream",
          "text": [
            "/usr/local/lib/python3.6/dist-packages/ipykernel_launcher.py:1: SettingWithCopyWarning: \n",
            "A value is trying to be set on a copy of a slice from a DataFrame\n",
            "\n",
            "See the caveats in the documentation: https://pandas.pydata.org/pandas-docs/stable/user_guide/indexing.html#returning-a-view-versus-a-copy\n",
            "  \"\"\"Entry point for launching an IPython kernel.\n"
          ],
          "name": "stderr"
        }
      ]
    },
    {
      "cell_type": "code",
      "metadata": {
        "id": "Ky27btp2NaQT",
        "outputId": "fd609024-7c1e-4323-af07-0dc30123a37c",
        "colab": {
          "base_uri": "https://localhost:8080/",
          "height": 34
        }
      },
      "source": [
        "train['project_id'].unique().shape #checking that there is not duplicated data"
      ],
      "execution_count": null,
      "outputs": [
        {
          "output_type": "execute_result",
          "data": {
            "text/plain": [
              "(108119,)"
            ]
          },
          "metadata": {
            "tags": []
          },
          "execution_count": 147
        }
      ]
    },
    {
      "cell_type": "code",
      "metadata": {
        "id": "MbOAdUZdO6Jl"
      },
      "source": [
        "name_words=[]\n",
        "for i in train['name']:\n",
        "  a=len(i.split())\n",
        "  name_words.append(a)"
      ],
      "execution_count": null,
      "outputs": []
    },
    {
      "cell_type": "code",
      "metadata": {
        "id": "FRhqmzu6Rhdp",
        "outputId": "9eb6fd29-a790-42b7-945f-8d82083e889b",
        "colab": {
          "base_uri": "https://localhost:8080/",
          "height": 34
        }
      },
      "source": [
        "len(name_words)"
      ],
      "execution_count": null,
      "outputs": [
        {
          "output_type": "execute_result",
          "data": {
            "text/plain": [
              "108119"
            ]
          },
          "metadata": {
            "tags": []
          },
          "execution_count": 149
        }
      ]
    },
    {
      "cell_type": "code",
      "metadata": {
        "id": "ODA4c_SkWitC"
      },
      "source": [
        "train['name']=train['name'].str.lower()"
      ],
      "execution_count": null,
      "outputs": []
    },
    {
      "cell_type": "code",
      "metadata": {
        "id": "Bq4sVaTNVBq-"
      },
      "source": [
        "train.insert(2, \"name_words\", name_words, True) "
      ],
      "execution_count": null,
      "outputs": []
    },
    {
      "cell_type": "code",
      "metadata": {
        "id": "FGCHMGOUVCjf",
        "outputId": "beef7a63-50e8-4b64-a15d-f5fb388ed4df",
        "colab": {
          "base_uri": "https://localhost:8080/",
          "height": 517
        }
      },
      "source": [
        "train.tail()"
      ],
      "execution_count": null,
      "outputs": [
        {
          "output_type": "execute_result",
          "data": {
            "text/html": [
              "<div>\n",
              "<style scoped>\n",
              "    .dataframe tbody tr th:only-of-type {\n",
              "        vertical-align: middle;\n",
              "    }\n",
              "\n",
              "    .dataframe tbody tr th {\n",
              "        vertical-align: top;\n",
              "    }\n",
              "\n",
              "    .dataframe thead th {\n",
              "        text-align: right;\n",
              "    }\n",
              "</style>\n",
              "<table border=\"1\" class=\"dataframe\">\n",
              "  <thead>\n",
              "    <tr style=\"text-align: right;\">\n",
              "      <th></th>\n",
              "      <th>project_id</th>\n",
              "      <th>name</th>\n",
              "      <th>name_words</th>\n",
              "      <th>desc</th>\n",
              "      <th>goal</th>\n",
              "      <th>keywords</th>\n",
              "      <th>disable_communication</th>\n",
              "      <th>country</th>\n",
              "      <th>currency</th>\n",
              "      <th>deadline</th>\n",
              "      <th>tdiff</th>\n",
              "      <th>state_changed_at</th>\n",
              "      <th>year_launched</th>\n",
              "      <th>created_at</th>\n",
              "      <th>month_launched</th>\n",
              "      <th>launched_at</th>\n",
              "      <th>crealaunch</th>\n",
              "      <th>statelaunch</th>\n",
              "      <th>backers_count</th>\n",
              "      <th>final_status</th>\n",
              "    </tr>\n",
              "  </thead>\n",
              "  <tbody>\n",
              "    <tr>\n",
              "      <th>108124</th>\n",
              "      <td>kkst542772509</td>\n",
              "      <td>custom wearable art</td>\n",
              "      <td>3</td>\n",
              "      <td>Sacred geometry art and custom clothing. Embro...</td>\n",
              "      <td>2000.0</td>\n",
              "      <td>custom-wearable-art</td>\n",
              "      <td>False</td>\n",
              "      <td>US</td>\n",
              "      <td>USD</td>\n",
              "      <td>2015-05-31</td>\n",
              "      <td>43</td>\n",
              "      <td>2015-05-31</td>\n",
              "      <td>2015</td>\n",
              "      <td>2015-04-18</td>\n",
              "      <td>5</td>\n",
              "      <td>2015-05-01</td>\n",
              "      <td>13</td>\n",
              "      <td>30</td>\n",
              "      <td>3</td>\n",
              "      <td>0</td>\n",
              "    </tr>\n",
              "    <tr>\n",
              "      <th>108125</th>\n",
              "      <td>kkst615785942</td>\n",
              "      <td>painted modern wall art mid-century!  $100 for...</td>\n",
              "      <td>8</td>\n",
              "      <td>I want to create pieces very similar to this o...</td>\n",
              "      <td>15000.0</td>\n",
              "      <td>zacharys-art-project</td>\n",
              "      <td>False</td>\n",
              "      <td>US</td>\n",
              "      <td>USD</td>\n",
              "      <td>2015-05-31</td>\n",
              "      <td>55</td>\n",
              "      <td>2015-05-31</td>\n",
              "      <td>2015</td>\n",
              "      <td>2015-04-06</td>\n",
              "      <td>4</td>\n",
              "      <td>2015-04-06</td>\n",
              "      <td>0</td>\n",
              "      <td>55</td>\n",
              "      <td>1</td>\n",
              "      <td>0</td>\n",
              "    </tr>\n",
              "    <tr>\n",
              "      <th>108126</th>\n",
              "      <td>kkst1421442073</td>\n",
              "      <td>creating high quality art prints from the arti...</td>\n",
              "      <td>9</td>\n",
              "      <td>I am seeking to produce prints to promote my r...</td>\n",
              "      <td>320.0</td>\n",
              "      <td>creating-high-quality-art-prints-from-the-arti...</td>\n",
              "      <td>False</td>\n",
              "      <td>US</td>\n",
              "      <td>USD</td>\n",
              "      <td>2015-05-31</td>\n",
              "      <td>31</td>\n",
              "      <td>2015-05-31</td>\n",
              "      <td>2015</td>\n",
              "      <td>2015-04-30</td>\n",
              "      <td>5</td>\n",
              "      <td>2015-05-01</td>\n",
              "      <td>1</td>\n",
              "      <td>30</td>\n",
              "      <td>11</td>\n",
              "      <td>1</td>\n",
              "    </tr>\n",
              "    <tr>\n",
              "      <th>108127</th>\n",
              "      <td>kkst2022543055</td>\n",
              "      <td>back to basics</td>\n",
              "      <td>3</td>\n",
              "      <td>A self sustaining homestead with organic produ...</td>\n",
              "      <td>35000.0</td>\n",
              "      <td>back-to-basics-2</td>\n",
              "      <td>False</td>\n",
              "      <td>US</td>\n",
              "      <td>USD</td>\n",
              "      <td>2015-05-31</td>\n",
              "      <td>35</td>\n",
              "      <td>2015-05-31</td>\n",
              "      <td>2015</td>\n",
              "      <td>2015-04-26</td>\n",
              "      <td>4</td>\n",
              "      <td>2015-04-30</td>\n",
              "      <td>4</td>\n",
              "      <td>31</td>\n",
              "      <td>0</td>\n",
              "      <td>0</td>\n",
              "    </tr>\n",
              "    <tr>\n",
              "      <th>108128</th>\n",
              "      <td>kkst169301870</td>\n",
              "      <td>happy olive, mediterranean wraps</td>\n",
              "      <td>4</td>\n",
              "      <td>Mediterranean Wraps, done right!</td>\n",
              "      <td>25000.0</td>\n",
              "      <td>happy-olive-mediterranean-wraps</td>\n",
              "      <td>False</td>\n",
              "      <td>US</td>\n",
              "      <td>USD</td>\n",
              "      <td>2015-05-31</td>\n",
              "      <td>45</td>\n",
              "      <td>2015-05-31</td>\n",
              "      <td>2015</td>\n",
              "      <td>2015-04-16</td>\n",
              "      <td>4</td>\n",
              "      <td>2015-04-16</td>\n",
              "      <td>0</td>\n",
              "      <td>45</td>\n",
              "      <td>1</td>\n",
              "      <td>0</td>\n",
              "    </tr>\n",
              "  </tbody>\n",
              "</table>\n",
              "</div>"
            ],
            "text/plain": [
              "            project_id  ... final_status\n",
              "108124   kkst542772509  ...            0\n",
              "108125   kkst615785942  ...            0\n",
              "108126  kkst1421442073  ...            1\n",
              "108127  kkst2022543055  ...            0\n",
              "108128   kkst169301870  ...            0\n",
              "\n",
              "[5 rows x 20 columns]"
            ]
          },
          "metadata": {
            "tags": []
          },
          "execution_count": 152
        }
      ]
    },
    {
      "cell_type": "code",
      "metadata": {
        "id": "ss3C9JjDt_CH",
        "outputId": "f573d9c9-1af0-4054-e222-f71b15a8bf41",
        "colab": {
          "base_uri": "https://localhost:8080/",
          "height": 230
        }
      },
      "source": [
        "train['name']"
      ],
      "execution_count": null,
      "outputs": [
        {
          "output_type": "execute_result",
          "data": {
            "text/plain": [
              "0                                       drawing for dollars\n",
              "1         sponsor dereck blackburn (lostwars) artist in ...\n",
              "2                                             mr. squiggles\n",
              "3                            help me write my second novel.\n",
              "4                    support casting my sculpture in bronze\n",
              "                                ...                        \n",
              "108124                                  custom wearable art\n",
              "108125    painted modern wall art mid-century!  $100 for...\n",
              "108126    creating high quality art prints from the arti...\n",
              "108127                                       back to basics\n",
              "108128                     happy olive, mediterranean wraps\n",
              "Name: name, Length: 108119, dtype: object"
            ]
          },
          "metadata": {
            "tags": []
          },
          "execution_count": 153
        }
      ]
    },
    {
      "cell_type": "code",
      "metadata": {
        "id": "NHxfsNDPvfSp",
        "outputId": "6c84a696-2a60-4002-f361-d17f0949354c",
        "colab": {
          "base_uri": "https://localhost:8080/",
          "height": 34
        }
      },
      "source": [
        "max(train['goal'])"
      ],
      "execution_count": null,
      "outputs": [
        {
          "output_type": "execute_result",
          "data": {
            "text/plain": [
              "100000000.0"
            ]
          },
          "metadata": {
            "tags": []
          },
          "execution_count": 154
        }
      ]
    },
    {
      "cell_type": "code",
      "metadata": {
        "id": "RRLvnCwKw8gp",
        "outputId": "4de992a7-b299-41fb-e0f2-eb8ae2d57227",
        "colab": {
          "base_uri": "https://localhost:8080/",
          "height": 35
        }
      },
      "source": [
        "train.desc[0]"
      ],
      "execution_count": null,
      "outputs": [
        {
          "output_type": "execute_result",
          "data": {
            "application/vnd.google.colaboratory.intrinsic+json": {
              "type": "string"
            },
            "text/plain": [
              "'I like drawing pictures. and then i color them too. so i thought i would suggest something for me to draw and then if someone wants...'"
            ]
          },
          "metadata": {
            "tags": []
          },
          "execution_count": 155
        }
      ]
    },
    {
      "cell_type": "code",
      "metadata": {
        "id": "XjI-gyMQ5Yi-",
        "outputId": "0d6ecb80-e6f2-40a5-98b1-80ab31b53a9b",
        "colab": {
          "base_uri": "https://localhost:8080/",
          "height": 230
        }
      },
      "source": [
        "train['name_words'].isnull()"
      ],
      "execution_count": null,
      "outputs": [
        {
          "output_type": "execute_result",
          "data": {
            "text/plain": [
              "0         False\n",
              "1         False\n",
              "2         False\n",
              "3         False\n",
              "4         False\n",
              "          ...  \n",
              "108124    False\n",
              "108125    False\n",
              "108126    False\n",
              "108127    False\n",
              "108128    False\n",
              "Name: name_words, Length: 108119, dtype: bool"
            ]
          },
          "metadata": {
            "tags": []
          },
          "execution_count": 156
        }
      ]
    },
    {
      "cell_type": "code",
      "metadata": {
        "id": "o0weodLsN9JL",
        "outputId": "4e68e5cf-d1fb-412a-8c5c-66ef213b9c1f",
        "colab": {
          "base_uri": "https://localhost:8080/",
          "height": 1000
        }
      },
      "source": [
        "train[100:140]"
      ],
      "execution_count": null,
      "outputs": [
        {
          "output_type": "execute_result",
          "data": {
            "text/html": [
              "<div>\n",
              "<style scoped>\n",
              "    .dataframe tbody tr th:only-of-type {\n",
              "        vertical-align: middle;\n",
              "    }\n",
              "\n",
              "    .dataframe tbody tr th {\n",
              "        vertical-align: top;\n",
              "    }\n",
              "\n",
              "    .dataframe thead th {\n",
              "        text-align: right;\n",
              "    }\n",
              "</style>\n",
              "<table border=\"1\" class=\"dataframe\">\n",
              "  <thead>\n",
              "    <tr style=\"text-align: right;\">\n",
              "      <th></th>\n",
              "      <th>project_id</th>\n",
              "      <th>name</th>\n",
              "      <th>name_words</th>\n",
              "      <th>desc</th>\n",
              "      <th>goal</th>\n",
              "      <th>keywords</th>\n",
              "      <th>disable_communication</th>\n",
              "      <th>country</th>\n",
              "      <th>currency</th>\n",
              "      <th>deadline</th>\n",
              "      <th>tdiff</th>\n",
              "      <th>state_changed_at</th>\n",
              "      <th>year_launched</th>\n",
              "      <th>created_at</th>\n",
              "      <th>month_launched</th>\n",
              "      <th>launched_at</th>\n",
              "      <th>crealaunch</th>\n",
              "      <th>statelaunch</th>\n",
              "      <th>backers_count</th>\n",
              "      <th>final_status</th>\n",
              "    </tr>\n",
              "  </thead>\n",
              "  <tbody>\n",
              "    <tr>\n",
              "      <th>100</th>\n",
              "      <td>kkst274665574</td>\n",
              "      <td>television landscape: making the record.</td>\n",
              "      <td>5</td>\n",
              "      <td>William Brittelle's \"\"\"\"\"\"\"\"\"\"\"\"\"\"\"\"\"\"\"\"\"\"\"\"\"\"...</td>\n",
              "      <td>2000.0</td>\n",
              "      <td>television-landscape-making-the-record</td>\n",
              "      <td>False</td>\n",
              "      <td>US</td>\n",
              "      <td>USD</td>\n",
              "      <td>2009-09-15</td>\n",
              "      <td>147</td>\n",
              "      <td>2009-09-15</td>\n",
              "      <td>2009</td>\n",
              "      <td>2009-04-21</td>\n",
              "      <td>6</td>\n",
              "      <td>2009-06-19</td>\n",
              "      <td>59</td>\n",
              "      <td>88</td>\n",
              "      <td>33</td>\n",
              "      <td>0</td>\n",
              "    </tr>\n",
              "    <tr>\n",
              "      <th>101</th>\n",
              "      <td>kkst742211872</td>\n",
              "      <td>reconstructing rwanda: a documentary project</td>\n",
              "      <td>5</td>\n",
              "      <td>The project will document children born in Rwa...</td>\n",
              "      <td>3250.0</td>\n",
              "      <td>the-rwanda-reconstruction-project</td>\n",
              "      <td>False</td>\n",
              "      <td>US</td>\n",
              "      <td>USD</td>\n",
              "      <td>2009-09-16</td>\n",
              "      <td>52</td>\n",
              "      <td>2009-09-16</td>\n",
              "      <td>2009</td>\n",
              "      <td>2009-07-26</td>\n",
              "      <td>7</td>\n",
              "      <td>2009-07-26</td>\n",
              "      <td>0</td>\n",
              "      <td>52</td>\n",
              "      <td>21</td>\n",
              "      <td>0</td>\n",
              "    </tr>\n",
              "    <tr>\n",
              "      <th>102</th>\n",
              "      <td>kkst1710426307</td>\n",
              "      <td>giver of life lp</td>\n",
              "      <td>4</td>\n",
              "      <td>I'm recording my first full-length worship alb...</td>\n",
              "      <td>2500.0</td>\n",
              "      <td>giver-of-life-lp</td>\n",
              "      <td>False</td>\n",
              "      <td>US</td>\n",
              "      <td>USD</td>\n",
              "      <td>2009-09-16</td>\n",
              "      <td>57</td>\n",
              "      <td>2009-09-16</td>\n",
              "      <td>2009</td>\n",
              "      <td>2009-07-21</td>\n",
              "      <td>7</td>\n",
              "      <td>2009-07-23</td>\n",
              "      <td>2</td>\n",
              "      <td>55</td>\n",
              "      <td>5</td>\n",
              "      <td>0</td>\n",
              "    </tr>\n",
              "    <tr>\n",
              "      <th>103</th>\n",
              "      <td>kkst1135539026</td>\n",
              "      <td>chicago rocked!  non-fiction book on chicago m...</td>\n",
              "      <td>10</td>\n",
              "      <td>Finally, a book about Chicago's music scene!  ...</td>\n",
              "      <td>17000.0</td>\n",
              "      <td>chicago-rocked-working-title-non-fiction-book-on</td>\n",
              "      <td>False</td>\n",
              "      <td>US</td>\n",
              "      <td>USD</td>\n",
              "      <td>2009-09-16</td>\n",
              "      <td>97</td>\n",
              "      <td>2009-09-16</td>\n",
              "      <td>2009</td>\n",
              "      <td>2009-06-11</td>\n",
              "      <td>6</td>\n",
              "      <td>2009-06-18</td>\n",
              "      <td>7</td>\n",
              "      <td>90</td>\n",
              "      <td>139</td>\n",
              "      <td>0</td>\n",
              "    </tr>\n",
              "    <tr>\n",
              "      <th>104</th>\n",
              "      <td>kkst2022968992</td>\n",
              "      <td>put some pesipop on your back! or your front! ...</td>\n",
              "      <td>12</td>\n",
              "      <td>pesipop makes awesome stuff for awesome people...</td>\n",
              "      <td>4000.0</td>\n",
              "      <td>pesipop-loves-you-love-pesipop-back</td>\n",
              "      <td>False</td>\n",
              "      <td>US</td>\n",
              "      <td>USD</td>\n",
              "      <td>2009-09-17</td>\n",
              "      <td>41</td>\n",
              "      <td>2009-09-17</td>\n",
              "      <td>2009</td>\n",
              "      <td>2009-08-07</td>\n",
              "      <td>8</td>\n",
              "      <td>2009-08-08</td>\n",
              "      <td>1</td>\n",
              "      <td>40</td>\n",
              "      <td>10</td>\n",
              "      <td>0</td>\n",
              "    </tr>\n",
              "    <tr>\n",
              "      <th>105</th>\n",
              "      <td>kkst2087038812</td>\n",
              "      <td>fund rock indie artist sean yox / streamers - ...</td>\n",
              "      <td>15</td>\n",
              "      <td>Fundraising to support Indie Rock Artist / Mus...</td>\n",
              "      <td>500.0</td>\n",
              "      <td>get-mocker1-to-london-the-2nd-coming-0</td>\n",
              "      <td>False</td>\n",
              "      <td>US</td>\n",
              "      <td>USD</td>\n",
              "      <td>2009-09-17</td>\n",
              "      <td>15</td>\n",
              "      <td>2009-09-17</td>\n",
              "      <td>2009</td>\n",
              "      <td>2009-09-02</td>\n",
              "      <td>9</td>\n",
              "      <td>2009-09-03</td>\n",
              "      <td>1</td>\n",
              "      <td>14</td>\n",
              "      <td>0</td>\n",
              "      <td>0</td>\n",
              "    </tr>\n",
              "    <tr>\n",
              "      <th>106</th>\n",
              "      <td>kkst281209050</td>\n",
              "      <td>powering kids with music - seed money for fund...</td>\n",
              "      <td>10</td>\n",
              "      <td>Adventures of Power - a new movie, and the Bil...</td>\n",
              "      <td>10000.0</td>\n",
              "      <td>powering-kids-with-music-seed-money-for-fundrais</td>\n",
              "      <td>False</td>\n",
              "      <td>US</td>\n",
              "      <td>USD</td>\n",
              "      <td>2009-09-21</td>\n",
              "      <td>25</td>\n",
              "      <td>2009-09-21</td>\n",
              "      <td>2009</td>\n",
              "      <td>2009-08-27</td>\n",
              "      <td>8</td>\n",
              "      <td>2009-08-30</td>\n",
              "      <td>3</td>\n",
              "      <td>22</td>\n",
              "      <td>0</td>\n",
              "      <td>0</td>\n",
              "    </tr>\n",
              "    <tr>\n",
              "      <th>107</th>\n",
              "      <td>kkst754745358</td>\n",
              "      <td>let's build a giant room-sized theremin with 1...</td>\n",
              "      <td>9</td>\n",
              "      <td>We would like to build a giant theremin - a ro...</td>\n",
              "      <td>5000.0</td>\n",
              "      <td>lets-build-a-giant-room-sized-theremin-with-16-an</td>\n",
              "      <td>False</td>\n",
              "      <td>US</td>\n",
              "      <td>USD</td>\n",
              "      <td>2009-09-22</td>\n",
              "      <td>42</td>\n",
              "      <td>2009-09-22</td>\n",
              "      <td>2009</td>\n",
              "      <td>2009-08-11</td>\n",
              "      <td>8</td>\n",
              "      <td>2009-08-12</td>\n",
              "      <td>1</td>\n",
              "      <td>41</td>\n",
              "      <td>17</td>\n",
              "      <td>0</td>\n",
              "    </tr>\n",
              "    <tr>\n",
              "      <th>108</th>\n",
              "      <td>kkst504896759</td>\n",
              "      <td>artloop 1.0: back nyc student art, get nyc stu...</td>\n",
              "      <td>10</td>\n",
              "      <td>Back us to own, wear, or see a show of great s...</td>\n",
              "      <td>1000.0</td>\n",
              "      <td>artloop-10-back-nyc-student-art-get-nyc-student</td>\n",
              "      <td>False</td>\n",
              "      <td>US</td>\n",
              "      <td>USD</td>\n",
              "      <td>2009-09-22</td>\n",
              "      <td>71</td>\n",
              "      <td>2009-09-22</td>\n",
              "      <td>2009</td>\n",
              "      <td>2009-07-13</td>\n",
              "      <td>8</td>\n",
              "      <td>2009-08-13</td>\n",
              "      <td>31</td>\n",
              "      <td>40</td>\n",
              "      <td>46</td>\n",
              "      <td>1</td>\n",
              "    </tr>\n",
              "    <tr>\n",
              "      <th>109</th>\n",
              "      <td>kkst121890530</td>\n",
              "      <td>the next album - i should of made this first b...</td>\n",
              "      <td>16</td>\n",
              "      <td>Two years off.  I am craving my creative outle...</td>\n",
              "      <td>5999.0</td>\n",
              "      <td>the-next-album-i-should-of-made-this-first-but-i</td>\n",
              "      <td>False</td>\n",
              "      <td>US</td>\n",
              "      <td>USD</td>\n",
              "      <td>2009-09-22</td>\n",
              "      <td>86</td>\n",
              "      <td>2009-09-22</td>\n",
              "      <td>2009</td>\n",
              "      <td>2009-06-28</td>\n",
              "      <td>6</td>\n",
              "      <td>2009-06-28</td>\n",
              "      <td>0</td>\n",
              "      <td>86</td>\n",
              "      <td>0</td>\n",
              "      <td>0</td>\n",
              "    </tr>\n",
              "    <tr>\n",
              "      <th>110</th>\n",
              "      <td>kkst141096768</td>\n",
              "      <td>american dream: illusion or reality?  a docume...</td>\n",
              "      <td>12</td>\n",
              "      <td>A filmmaker's journey into the truth behind th...</td>\n",
              "      <td>4000.0</td>\n",
              "      <td>american-dream-illusion-or-reality-a-documentar-0</td>\n",
              "      <td>False</td>\n",
              "      <td>US</td>\n",
              "      <td>USD</td>\n",
              "      <td>2009-09-25</td>\n",
              "      <td>23</td>\n",
              "      <td>2009-09-25</td>\n",
              "      <td>2009</td>\n",
              "      <td>2009-09-02</td>\n",
              "      <td>9</td>\n",
              "      <td>2009-09-03</td>\n",
              "      <td>1</td>\n",
              "      <td>22</td>\n",
              "      <td>46</td>\n",
              "      <td>0</td>\n",
              "    </tr>\n",
              "    <tr>\n",
              "      <th>111</th>\n",
              "      <td>kkst733165549</td>\n",
              "      <td>\"\"\"\"\"\"\"\"\"\"\"\"\"\"\"\"\"\"\"\"\"\"\"\"\"\"\"\"\"\"\"\"\"\"\"\"\"\"\"\"\"\"\"\"\"\"...</td>\n",
              "      <td>3</td>\n",
              "      <td>A new feature film by Reid Gershbein starring ...</td>\n",
              "      <td>2500.0</td>\n",
              "      <td>actually-feature-film</td>\n",
              "      <td>False</td>\n",
              "      <td>US</td>\n",
              "      <td>USD</td>\n",
              "      <td>2009-09-25</td>\n",
              "      <td>93</td>\n",
              "      <td>2009-09-25</td>\n",
              "      <td>2009</td>\n",
              "      <td>2009-06-24</td>\n",
              "      <td>6</td>\n",
              "      <td>2009-06-29</td>\n",
              "      <td>5</td>\n",
              "      <td>88</td>\n",
              "      <td>7</td>\n",
              "      <td>0</td>\n",
              "    </tr>\n",
              "    <tr>\n",
              "      <th>112</th>\n",
              "      <td>kkst1404727536</td>\n",
              "      <td>back the mari mack album project!</td>\n",
              "      <td>6</td>\n",
              "      <td>This project is a cross between \"\"\"\"\"\"\"\"\"\"\"\"\"\"...</td>\n",
              "      <td>5000.0</td>\n",
              "      <td>back-the-mari-mack-album-become-a-record-produce</td>\n",
              "      <td>False</td>\n",
              "      <td>US</td>\n",
              "      <td>USD</td>\n",
              "      <td>2009-09-26</td>\n",
              "      <td>39</td>\n",
              "      <td>2009-09-26</td>\n",
              "      <td>2009</td>\n",
              "      <td>2009-08-18</td>\n",
              "      <td>8</td>\n",
              "      <td>2009-08-18</td>\n",
              "      <td>0</td>\n",
              "      <td>39</td>\n",
              "      <td>37</td>\n",
              "      <td>0</td>\n",
              "    </tr>\n",
              "    <tr>\n",
              "      <th>113</th>\n",
              "      <td>kkst1164440109</td>\n",
              "      <td>super ghosts 'n ... ghosts? a 2d, side-scrolli...</td>\n",
              "      <td>17</td>\n",
              "      <td>A 2D, wacky, action/comedy extravaganza,  feat...</td>\n",
              "      <td>200.0</td>\n",
              "      <td>super-ghosts-n-ghosts-a-2d-side-scrolling-s</td>\n",
              "      <td>False</td>\n",
              "      <td>US</td>\n",
              "      <td>USD</td>\n",
              "      <td>2009-09-26</td>\n",
              "      <td>63</td>\n",
              "      <td>2009-09-26</td>\n",
              "      <td>2009</td>\n",
              "      <td>2009-07-25</td>\n",
              "      <td>7</td>\n",
              "      <td>2009-07-25</td>\n",
              "      <td>0</td>\n",
              "      <td>63</td>\n",
              "      <td>5</td>\n",
              "      <td>1</td>\n",
              "    </tr>\n",
              "    <tr>\n",
              "      <th>114</th>\n",
              "      <td>kkst2131509787</td>\n",
              "      <td>we're trying to tell the strangest science sto...</td>\n",
              "      <td>11</td>\n",
              "      <td>In 1989 two University of Utah chemists announ...</td>\n",
              "      <td>4500.0</td>\n",
              "      <td>to-tell-the-strangest-science-story-in-modern-...</td>\n",
              "      <td>False</td>\n",
              "      <td>US</td>\n",
              "      <td>USD</td>\n",
              "      <td>2009-09-26</td>\n",
              "      <td>43</td>\n",
              "      <td>2009-09-26</td>\n",
              "      <td>2009</td>\n",
              "      <td>2009-08-14</td>\n",
              "      <td>8</td>\n",
              "      <td>2009-08-15</td>\n",
              "      <td>1</td>\n",
              "      <td>42</td>\n",
              "      <td>92</td>\n",
              "      <td>1</td>\n",
              "    </tr>\n",
              "    <tr>\n",
              "      <th>115</th>\n",
              "      <td>kkst1190660704</td>\n",
              "      <td>songs for unusual creatures</td>\n",
              "      <td>4</td>\n",
              "      <td>A book/CD by Michael Hearst featuring songs an...</td>\n",
              "      <td>5000.0</td>\n",
              "      <td>songs-for-unusual-creatures</td>\n",
              "      <td>False</td>\n",
              "      <td>US</td>\n",
              "      <td>USD</td>\n",
              "      <td>2009-09-26</td>\n",
              "      <td>38</td>\n",
              "      <td>2009-09-26</td>\n",
              "      <td>2009</td>\n",
              "      <td>2009-08-19</td>\n",
              "      <td>8</td>\n",
              "      <td>2009-08-25</td>\n",
              "      <td>6</td>\n",
              "      <td>32</td>\n",
              "      <td>163</td>\n",
              "      <td>1</td>\n",
              "    </tr>\n",
              "    <tr>\n",
              "      <th>116</th>\n",
              "      <td>kkst1601792545</td>\n",
              "      <td>getting red fly/blue bottle [all the way!] home</td>\n",
              "      <td>8</td>\n",
              "      <td>We've crossed oceans to arrive safely on home ...</td>\n",
              "      <td>2325.0</td>\n",
              "      <td>stranded-abroad-help-us-get-back-home</td>\n",
              "      <td>False</td>\n",
              "      <td>US</td>\n",
              "      <td>USD</td>\n",
              "      <td>2009-09-29</td>\n",
              "      <td>56</td>\n",
              "      <td>2009-09-29</td>\n",
              "      <td>2009</td>\n",
              "      <td>2009-08-04</td>\n",
              "      <td>8</td>\n",
              "      <td>2009-08-18</td>\n",
              "      <td>14</td>\n",
              "      <td>42</td>\n",
              "      <td>58</td>\n",
              "      <td>1</td>\n",
              "    </tr>\n",
              "    <tr>\n",
              "      <th>117</th>\n",
              "      <td>kkst2077678555</td>\n",
              "      <td>put this on: a web video pilot about dressing ...</td>\n",
              "      <td>12</td>\n",
              "      <td>Jesse Thorn and Adam Lisagor want to make a we...</td>\n",
              "      <td>1500.0</td>\n",
              "      <td>put-this-on-a-web-video-pilot-about-dressing-like</td>\n",
              "      <td>False</td>\n",
              "      <td>US</td>\n",
              "      <td>USD</td>\n",
              "      <td>2009-10-01</td>\n",
              "      <td>31</td>\n",
              "      <td>2009-10-01</td>\n",
              "      <td>2009</td>\n",
              "      <td>2009-08-31</td>\n",
              "      <td>9</td>\n",
              "      <td>2009-09-01</td>\n",
              "      <td>1</td>\n",
              "      <td>30</td>\n",
              "      <td>64</td>\n",
              "      <td>1</td>\n",
              "    </tr>\n",
              "    <tr>\n",
              "      <th>118</th>\n",
              "      <td>kkst1151393504</td>\n",
              "      <td>\"\"\"\"\"\"\"\"\"\"\"\"\"\"\"\"\"\"\"\"\"\"\"\"\"\"\"\"\"\"\"\"\"\"\"\"\"\"\"\"\"\"\"\"\"\"...</td>\n",
              "      <td>7</td>\n",
              "      <td>Raising funds in  order to finish production a...</td>\n",
              "      <td>3500.0</td>\n",
              "      <td>this-devil-storm-limited-edition-cd-release</td>\n",
              "      <td>False</td>\n",
              "      <td>US</td>\n",
              "      <td>USD</td>\n",
              "      <td>2009-10-01</td>\n",
              "      <td>37</td>\n",
              "      <td>2009-10-01</td>\n",
              "      <td>2009</td>\n",
              "      <td>2009-08-25</td>\n",
              "      <td>9</td>\n",
              "      <td>2009-09-01</td>\n",
              "      <td>7</td>\n",
              "      <td>30</td>\n",
              "      <td>108</td>\n",
              "      <td>1</td>\n",
              "    </tr>\n",
              "    <tr>\n",
              "      <th>119</th>\n",
              "      <td>kkst512279659</td>\n",
              "      <td>help me record the new tinyfolk album!</td>\n",
              "      <td>7</td>\n",
              "      <td>Help me raise money to travel to Oregon and re...</td>\n",
              "      <td>200.0</td>\n",
              "      <td>help-me-record-the-new-tinyfolk-album</td>\n",
              "      <td>False</td>\n",
              "      <td>US</td>\n",
              "      <td>USD</td>\n",
              "      <td>2009-10-01</td>\n",
              "      <td>53</td>\n",
              "      <td>2009-10-01</td>\n",
              "      <td>2009</td>\n",
              "      <td>2009-08-09</td>\n",
              "      <td>8</td>\n",
              "      <td>2009-08-09</td>\n",
              "      <td>0</td>\n",
              "      <td>53</td>\n",
              "      <td>11</td>\n",
              "      <td>1</td>\n",
              "    </tr>\n",
              "    <tr>\n",
              "      <th>120</th>\n",
              "      <td>kkst1582968504</td>\n",
              "      <td>save the city! save the falcon lords!</td>\n",
              "      <td>7</td>\n",
              "      <td>The Falcon Lords made the ultimate party recor...</td>\n",
              "      <td>2000.0</td>\n",
              "      <td>save-the-city-save-the-falcon-lords</td>\n",
              "      <td>False</td>\n",
              "      <td>US</td>\n",
              "      <td>USD</td>\n",
              "      <td>2009-10-01</td>\n",
              "      <td>107</td>\n",
              "      <td>2009-10-01</td>\n",
              "      <td>2009</td>\n",
              "      <td>2009-06-16</td>\n",
              "      <td>7</td>\n",
              "      <td>2009-07-31</td>\n",
              "      <td>45</td>\n",
              "      <td>62</td>\n",
              "      <td>12</td>\n",
              "      <td>0</td>\n",
              "    </tr>\n",
              "    <tr>\n",
              "      <th>121</th>\n",
              "      <td>kkst518958856</td>\n",
              "      <td>undergrad records - a new indie label startup....</td>\n",
              "      <td>14</td>\n",
              "      <td>The Undergrad Records web-series documents the...</td>\n",
              "      <td>1200.0</td>\n",
              "      <td>are-you-having-another-episode-be-a-part-of-the-u</td>\n",
              "      <td>False</td>\n",
              "      <td>US</td>\n",
              "      <td>USD</td>\n",
              "      <td>2009-10-01</td>\n",
              "      <td>32</td>\n",
              "      <td>2009-10-01</td>\n",
              "      <td>2009</td>\n",
              "      <td>2009-08-30</td>\n",
              "      <td>8</td>\n",
              "      <td>2009-08-31</td>\n",
              "      <td>1</td>\n",
              "      <td>31</td>\n",
              "      <td>7</td>\n",
              "      <td>0</td>\n",
              "    </tr>\n",
              "    <tr>\n",
              "      <th>122</th>\n",
              "      <td>kkst1432451863</td>\n",
              "      <td>animated series: the somewhat comical adventur...</td>\n",
              "      <td>12</td>\n",
              "      <td>YOU CAN WATCH FIVE EPISODES RIGHT HERE, NOW!  ...</td>\n",
              "      <td>2500.0</td>\n",
              "      <td>animated-series-the-somewhat-comical-adventures</td>\n",
              "      <td>False</td>\n",
              "      <td>US</td>\n",
              "      <td>USD</td>\n",
              "      <td>2009-10-01</td>\n",
              "      <td>56</td>\n",
              "      <td>2009-10-01</td>\n",
              "      <td>2009</td>\n",
              "      <td>2009-08-06</td>\n",
              "      <td>8</td>\n",
              "      <td>2009-08-17</td>\n",
              "      <td>11</td>\n",
              "      <td>45</td>\n",
              "      <td>1</td>\n",
              "      <td>0</td>\n",
              "    </tr>\n",
              "    <tr>\n",
              "      <th>123</th>\n",
              "      <td>kkst1290728997</td>\n",
              "      <td>experience fun history with us!</td>\n",
              "      <td>5</td>\n",
              "      <td>Bring historical thinking and creative fun to ...</td>\n",
              "      <td>1500.0</td>\n",
              "      <td>innovative-non-boring-history-kids-camp-in-small</td>\n",
              "      <td>False</td>\n",
              "      <td>US</td>\n",
              "      <td>USD</td>\n",
              "      <td>2009-10-01</td>\n",
              "      <td>25</td>\n",
              "      <td>2009-10-01</td>\n",
              "      <td>2009</td>\n",
              "      <td>2009-09-06</td>\n",
              "      <td>9</td>\n",
              "      <td>2009-09-06</td>\n",
              "      <td>0</td>\n",
              "      <td>25</td>\n",
              "      <td>68</td>\n",
              "      <td>1</td>\n",
              "    </tr>\n",
              "    <tr>\n",
              "      <th>124</th>\n",
              "      <td>kkst1597903138</td>\n",
              "      <td>subtitles in miro - translations and support f...</td>\n",
              "      <td>11</td>\n",
              "      <td>Miro is a free, non-profit, and open-source vi...</td>\n",
              "      <td>1000.0</td>\n",
              "      <td>subtitles-in-miro-translations-and-support-for-t</td>\n",
              "      <td>False</td>\n",
              "      <td>US</td>\n",
              "      <td>USD</td>\n",
              "      <td>2009-10-01</td>\n",
              "      <td>30</td>\n",
              "      <td>2009-10-01</td>\n",
              "      <td>2009</td>\n",
              "      <td>2009-09-01</td>\n",
              "      <td>9</td>\n",
              "      <td>2009-09-01</td>\n",
              "      <td>0</td>\n",
              "      <td>30</td>\n",
              "      <td>26</td>\n",
              "      <td>0</td>\n",
              "    </tr>\n",
              "    <tr>\n",
              "      <th>125</th>\n",
              "      <td>kkst2136532790</td>\n",
              "      <td>faces - expressions on a mask</td>\n",
              "      <td>6</td>\n",
              "      <td>FACES - Expressions On A Mask is a one man exh...</td>\n",
              "      <td>5000.0</td>\n",
              "      <td>faces-expressions-on-a-mask</td>\n",
              "      <td>False</td>\n",
              "      <td>US</td>\n",
              "      <td>USD</td>\n",
              "      <td>2009-10-02</td>\n",
              "      <td>39</td>\n",
              "      <td>2009-10-02</td>\n",
              "      <td>2009</td>\n",
              "      <td>2009-08-24</td>\n",
              "      <td>8</td>\n",
              "      <td>2009-08-24</td>\n",
              "      <td>0</td>\n",
              "      <td>39</td>\n",
              "      <td>5</td>\n",
              "      <td>0</td>\n",
              "    </tr>\n",
              "    <tr>\n",
              "      <th>126</th>\n",
              "      <td>kkst452929078</td>\n",
              "      <td>bring faust to athens, ga.</td>\n",
              "      <td>5</td>\n",
              "      <td>AUX has invited German experimental music grou...</td>\n",
              "      <td>2000.0</td>\n",
              "      <td>bring-faust-to-athens-ga</td>\n",
              "      <td>False</td>\n",
              "      <td>US</td>\n",
              "      <td>USD</td>\n",
              "      <td>2009-10-03</td>\n",
              "      <td>32</td>\n",
              "      <td>2009-10-03</td>\n",
              "      <td>2009</td>\n",
              "      <td>2009-09-01</td>\n",
              "      <td>9</td>\n",
              "      <td>2009-09-02</td>\n",
              "      <td>1</td>\n",
              "      <td>31</td>\n",
              "      <td>34</td>\n",
              "      <td>0</td>\n",
              "    </tr>\n",
              "    <tr>\n",
              "      <th>127</th>\n",
              "      <td>kkst514599243</td>\n",
              "      <td>the vanderbilt republic foundation: “masters”</td>\n",
              "      <td>5</td>\n",
              "      <td>This fall, a historic photographic project wil...</td>\n",
              "      <td>50000.0</td>\n",
              "      <td>masters</td>\n",
              "      <td>False</td>\n",
              "      <td>US</td>\n",
              "      <td>USD</td>\n",
              "      <td>2009-10-04</td>\n",
              "      <td>68</td>\n",
              "      <td>2009-10-04</td>\n",
              "      <td>2009</td>\n",
              "      <td>2009-07-28</td>\n",
              "      <td>8</td>\n",
              "      <td>2009-08-04</td>\n",
              "      <td>7</td>\n",
              "      <td>61</td>\n",
              "      <td>181</td>\n",
              "      <td>0</td>\n",
              "    </tr>\n",
              "    <tr>\n",
              "      <th>128</th>\n",
              "      <td>kkst1016495040</td>\n",
              "      <td>american graffiti artists go to sderot to batt...</td>\n",
              "      <td>14</td>\n",
              "      <td>Sending Americas most famous graffiti &amp; stree...</td>\n",
              "      <td>800.0</td>\n",
              "      <td>american-graffiti-artists-go-to-sderot-to-batt...</td>\n",
              "      <td>False</td>\n",
              "      <td>US</td>\n",
              "      <td>USD</td>\n",
              "      <td>2009-10-05</td>\n",
              "      <td>19</td>\n",
              "      <td>2009-10-05</td>\n",
              "      <td>2009</td>\n",
              "      <td>2009-09-16</td>\n",
              "      <td>9</td>\n",
              "      <td>2009-09-16</td>\n",
              "      <td>0</td>\n",
              "      <td>19</td>\n",
              "      <td>3</td>\n",
              "      <td>0</td>\n",
              "    </tr>\n",
              "    <tr>\n",
              "      <th>129</th>\n",
              "      <td>kkst1335443010</td>\n",
              "      <td>art cafe/pub in nyc (canceled)</td>\n",
              "      <td>5</td>\n",
              "      <td>Panda is an art café/pub which will feature an...</td>\n",
              "      <td>25000.0</td>\n",
              "      <td>art-cafe-pub-in-nyc</td>\n",
              "      <td>False</td>\n",
              "      <td>US</td>\n",
              "      <td>USD</td>\n",
              "      <td>2009-10-06</td>\n",
              "      <td>30</td>\n",
              "      <td>2009-09-10</td>\n",
              "      <td>2009</td>\n",
              "      <td>2009-09-06</td>\n",
              "      <td>9</td>\n",
              "      <td>2009-09-06</td>\n",
              "      <td>0</td>\n",
              "      <td>4</td>\n",
              "      <td>0</td>\n",
              "      <td>0</td>\n",
              "    </tr>\n",
              "    <tr>\n",
              "      <th>130</th>\n",
              "      <td>kkst474082047</td>\n",
              "      <td>baroque music performing editions</td>\n",
              "      <td>4</td>\n",
              "      <td>Performing editions of unpublished baroque music.</td>\n",
              "      <td>1000.0</td>\n",
              "      <td>baroque-music-performing-editions</td>\n",
              "      <td>False</td>\n",
              "      <td>US</td>\n",
              "      <td>USD</td>\n",
              "      <td>2009-10-06</td>\n",
              "      <td>30</td>\n",
              "      <td>2009-10-06</td>\n",
              "      <td>2009</td>\n",
              "      <td>2009-09-06</td>\n",
              "      <td>9</td>\n",
              "      <td>2009-09-06</td>\n",
              "      <td>0</td>\n",
              "      <td>30</td>\n",
              "      <td>0</td>\n",
              "      <td>0</td>\n",
              "    </tr>\n",
              "    <tr>\n",
              "      <th>131</th>\n",
              "      <td>kkst1916569676</td>\n",
              "      <td>let's find my dogwalker &amp; write a book</td>\n",
              "      <td>8</td>\n",
              "      <td>My dogwalker has been missing for weeks. What ...</td>\n",
              "      <td>1800.0</td>\n",
              "      <td>lets-find-my-dogwalker-and-write-a-book-0</td>\n",
              "      <td>False</td>\n",
              "      <td>US</td>\n",
              "      <td>USD</td>\n",
              "      <td>2009-10-07</td>\n",
              "      <td>41</td>\n",
              "      <td>2009-10-07</td>\n",
              "      <td>2009</td>\n",
              "      <td>2009-08-27</td>\n",
              "      <td>9</td>\n",
              "      <td>2009-09-12</td>\n",
              "      <td>16</td>\n",
              "      <td>25</td>\n",
              "      <td>26</td>\n",
              "      <td>0</td>\n",
              "    </tr>\n",
              "    <tr>\n",
              "      <th>132</th>\n",
              "      <td>kkst1970488653</td>\n",
              "      <td>march! the movie</td>\n",
              "      <td>3</td>\n",
              "      <td>MARCH! A Road Trip Film from Lower Manhattan i...</td>\n",
              "      <td>3000.0</td>\n",
              "      <td>march-the-movie-0</td>\n",
              "      <td>False</td>\n",
              "      <td>US</td>\n",
              "      <td>USD</td>\n",
              "      <td>2009-10-07</td>\n",
              "      <td>41</td>\n",
              "      <td>2009-10-07</td>\n",
              "      <td>2009</td>\n",
              "      <td>2009-08-27</td>\n",
              "      <td>8</td>\n",
              "      <td>2009-08-31</td>\n",
              "      <td>4</td>\n",
              "      <td>37</td>\n",
              "      <td>53</td>\n",
              "      <td>1</td>\n",
              "    </tr>\n",
              "    <tr>\n",
              "      <th>133</th>\n",
              "      <td>kkst1290556701</td>\n",
              "      <td>showpaper issue 63</td>\n",
              "      <td>3</td>\n",
              "      <td>Showpaper is an all ages newsprint listing wit...</td>\n",
              "      <td>800.0</td>\n",
              "      <td>showpaper-issue-63</td>\n",
              "      <td>False</td>\n",
              "      <td>US</td>\n",
              "      <td>USD</td>\n",
              "      <td>2009-10-08</td>\n",
              "      <td>15</td>\n",
              "      <td>2009-10-08</td>\n",
              "      <td>2009</td>\n",
              "      <td>2009-09-23</td>\n",
              "      <td>9</td>\n",
              "      <td>2009-09-23</td>\n",
              "      <td>0</td>\n",
              "      <td>15</td>\n",
              "      <td>7</td>\n",
              "      <td>1</td>\n",
              "    </tr>\n",
              "    <tr>\n",
              "      <th>134</th>\n",
              "      <td>kkst1686024692</td>\n",
              "      <td>listen &amp; learn: music for a different kind of ...</td>\n",
              "      <td>10</td>\n",
              "      <td>Music reaches children with autism in a way th...</td>\n",
              "      <td>2000.0</td>\n",
              "      <td>listen-and-learn-music-for-a-different-kind-of...</td>\n",
              "      <td>False</td>\n",
              "      <td>US</td>\n",
              "      <td>USD</td>\n",
              "      <td>2009-10-08</td>\n",
              "      <td>94</td>\n",
              "      <td>2009-10-08</td>\n",
              "      <td>2009</td>\n",
              "      <td>2009-07-06</td>\n",
              "      <td>7</td>\n",
              "      <td>2009-07-10</td>\n",
              "      <td>4</td>\n",
              "      <td>90</td>\n",
              "      <td>57</td>\n",
              "      <td>1</td>\n",
              "    </tr>\n",
              "    <tr>\n",
              "      <th>135</th>\n",
              "      <td>kkst1831771519</td>\n",
              "      <td>art in a buddhist meditation space  (canceled)</td>\n",
              "      <td>7</td>\n",
              "      <td>A large-scale meditative painting has been cre...</td>\n",
              "      <td>1500.0</td>\n",
              "      <td>art-in-a-buddhist-meditation-space</td>\n",
              "      <td>False</td>\n",
              "      <td>US</td>\n",
              "      <td>USD</td>\n",
              "      <td>2009-10-08</td>\n",
              "      <td>10</td>\n",
              "      <td>2009-10-01</td>\n",
              "      <td>2009</td>\n",
              "      <td>2009-09-28</td>\n",
              "      <td>9</td>\n",
              "      <td>2009-09-29</td>\n",
              "      <td>1</td>\n",
              "      <td>2</td>\n",
              "      <td>0</td>\n",
              "      <td>0</td>\n",
              "    </tr>\n",
              "    <tr>\n",
              "      <th>136</th>\n",
              "      <td>kkst309139664</td>\n",
              "      <td>the red book of sonnets (canceled)</td>\n",
              "      <td>6</td>\n",
              "      <td>Drawing inspiration from Shakespeare’s Sonnets...</td>\n",
              "      <td>5000.0</td>\n",
              "      <td>the-red-book-of-sonnets</td>\n",
              "      <td>False</td>\n",
              "      <td>US</td>\n",
              "      <td>USD</td>\n",
              "      <td>2009-10-09</td>\n",
              "      <td>32</td>\n",
              "      <td>2009-09-21</td>\n",
              "      <td>2009</td>\n",
              "      <td>2009-09-07</td>\n",
              "      <td>9</td>\n",
              "      <td>2009-09-07</td>\n",
              "      <td>0</td>\n",
              "      <td>14</td>\n",
              "      <td>0</td>\n",
              "      <td>0</td>\n",
              "    </tr>\n",
              "    <tr>\n",
              "      <th>137</th>\n",
              "      <td>kkst228201316</td>\n",
              "      <td>las rubias del norte need help to complete the...</td>\n",
              "      <td>11</td>\n",
              "      <td>Las Rubias del Norte need help to finish their...</td>\n",
              "      <td>2000.0</td>\n",
              "      <td>las-rubias-del-norte-need-help-to-complete-the...</td>\n",
              "      <td>False</td>\n",
              "      <td>US</td>\n",
              "      <td>USD</td>\n",
              "      <td>2009-10-09</td>\n",
              "      <td>30</td>\n",
              "      <td>2009-10-09</td>\n",
              "      <td>2009</td>\n",
              "      <td>2009-09-09</td>\n",
              "      <td>9</td>\n",
              "      <td>2009-09-14</td>\n",
              "      <td>5</td>\n",
              "      <td>25</td>\n",
              "      <td>44</td>\n",
              "      <td>1</td>\n",
              "    </tr>\n",
              "    <tr>\n",
              "      <th>138</th>\n",
              "      <td>kkst282103252</td>\n",
              "      <td>florine ep on vinyl- limited edition</td>\n",
              "      <td>6</td>\n",
              "      <td>it would be really fantastic to see the florin...</td>\n",
              "      <td>2500.0</td>\n",
              "      <td>florine-ep-on-vinyl-limited-edition</td>\n",
              "      <td>False</td>\n",
              "      <td>US</td>\n",
              "      <td>USD</td>\n",
              "      <td>2009-10-09</td>\n",
              "      <td>58</td>\n",
              "      <td>2009-10-09</td>\n",
              "      <td>2009</td>\n",
              "      <td>2009-08-12</td>\n",
              "      <td>8</td>\n",
              "      <td>2009-08-17</td>\n",
              "      <td>5</td>\n",
              "      <td>53</td>\n",
              "      <td>93</td>\n",
              "      <td>1</td>\n",
              "    </tr>\n",
              "    <tr>\n",
              "      <th>139</th>\n",
              "      <td>kkst1315736104</td>\n",
              "      <td>join the journey and release bitch's next albu...</td>\n",
              "      <td>9</td>\n",
              "      <td>I wanna keep my awesome little label rocking t...</td>\n",
              "      <td>10000.0</td>\n",
              "      <td>join-the-journey-and-release-bitchs-next-album-b</td>\n",
              "      <td>False</td>\n",
              "      <td>US</td>\n",
              "      <td>USD</td>\n",
              "      <td>2009-10-10</td>\n",
              "      <td>69</td>\n",
              "      <td>2009-10-10</td>\n",
              "      <td>2009</td>\n",
              "      <td>2009-08-02</td>\n",
              "      <td>8</td>\n",
              "      <td>2009-08-06</td>\n",
              "      <td>4</td>\n",
              "      <td>65</td>\n",
              "      <td>131</td>\n",
              "      <td>1</td>\n",
              "    </tr>\n",
              "  </tbody>\n",
              "</table>\n",
              "</div>"
            ],
            "text/plain": [
              "         project_id  ... final_status\n",
              "100   kkst274665574  ...            0\n",
              "101   kkst742211872  ...            0\n",
              "102  kkst1710426307  ...            0\n",
              "103  kkst1135539026  ...            0\n",
              "104  kkst2022968992  ...            0\n",
              "105  kkst2087038812  ...            0\n",
              "106   kkst281209050  ...            0\n",
              "107   kkst754745358  ...            0\n",
              "108   kkst504896759  ...            1\n",
              "109   kkst121890530  ...            0\n",
              "110   kkst141096768  ...            0\n",
              "111   kkst733165549  ...            0\n",
              "112  kkst1404727536  ...            0\n",
              "113  kkst1164440109  ...            1\n",
              "114  kkst2131509787  ...            1\n",
              "115  kkst1190660704  ...            1\n",
              "116  kkst1601792545  ...            1\n",
              "117  kkst2077678555  ...            1\n",
              "118  kkst1151393504  ...            1\n",
              "119   kkst512279659  ...            1\n",
              "120  kkst1582968504  ...            0\n",
              "121   kkst518958856  ...            0\n",
              "122  kkst1432451863  ...            0\n",
              "123  kkst1290728997  ...            1\n",
              "124  kkst1597903138  ...            0\n",
              "125  kkst2136532790  ...            0\n",
              "126   kkst452929078  ...            0\n",
              "127   kkst514599243  ...            0\n",
              "128  kkst1016495040  ...            0\n",
              "129  kkst1335443010  ...            0\n",
              "130   kkst474082047  ...            0\n",
              "131  kkst1916569676  ...            0\n",
              "132  kkst1970488653  ...            1\n",
              "133  kkst1290556701  ...            1\n",
              "134  kkst1686024692  ...            1\n",
              "135  kkst1831771519  ...            0\n",
              "136   kkst309139664  ...            0\n",
              "137   kkst228201316  ...            1\n",
              "138   kkst282103252  ...            1\n",
              "139  kkst1315736104  ...            1\n",
              "\n",
              "[40 rows x 20 columns]"
            ]
          },
          "metadata": {
            "tags": []
          },
          "execution_count": 157
        }
      ]
    },
    {
      "cell_type": "markdown",
      "metadata": {
        "id": "lg3E1DdpLIAN"
      },
      "source": [
        "## 1st Model, based on the project description, is the project going to be\n",
        "##accepted?"
      ]
    },
    {
      "cell_type": "code",
      "metadata": {
        "id": "WGYL6Gdsj8YE"
      },
      "source": [
        "from sklearn.model_selection import train_test_split\n",
        "from sklearn.feature_extraction.text import CountVectorizer\n",
        "from sklearn.feature_extraction.text import TfidfTransformer\n",
        "from sklearn.naive_bayes import MultinomialNB\n",
        "from sklearn.metrics import accuracy_score\n",
        "count_vect = CountVectorizer()\n",
        "X_counts = count_vect.fit_transform(train['desc'])\n",
        "tfidf_transformer = TfidfTransformer()\n",
        "text_counts = tfidf_transformer.fit_transform(X_counts)\n",
        "X_train, X_test, y_train, y_test = train_test_split(text_counts,train['final_status'], random_state = 0)\n",
        "clf = MultinomialNB().fit(X_train, y_train)"
      ],
      "execution_count": null,
      "outputs": []
    },
    {
      "cell_type": "code",
      "metadata": {
        "id": "nQx1JCLYGUuF",
        "outputId": "bea551fb-b36b-4c75-9ae7-9d3b0bcd4997",
        "colab": {
          "base_uri": "https://localhost:8080/",
          "height": 34
        }
      },
      "source": [
        "print(clf.predict(count_vect.transform([\"Bring historical thinking and creative fun to ...\t\"])))"
      ],
      "execution_count": null,
      "outputs": [
        {
          "output_type": "stream",
          "text": [
            "[0]\n"
          ],
          "name": "stdout"
        }
      ]
    },
    {
      "cell_type": "code",
      "metadata": {
        "id": "0I6L2P5tHLxW"
      },
      "source": [
        "predicted= clf.predict(X_test)"
      ],
      "execution_count": null,
      "outputs": []
    },
    {
      "cell_type": "code",
      "metadata": {
        "id": "nJxLaBsHHwjb",
        "outputId": "f36c8bc3-565b-43ab-8af2-90f017567c1d",
        "colab": {
          "base_uri": "https://localhost:8080/",
          "height": 34
        }
      },
      "source": [
        "print(\"MultinomialNB Accuracy:\",accuracy_score(y_test, predicted))"
      ],
      "execution_count": null,
      "outputs": [
        {
          "output_type": "stream",
          "text": [
            "MultinomialNB Accuracy: 0.6925638179800222\n"
          ],
          "name": "stdout"
        }
      ]
    },
    {
      "cell_type": "markdown",
      "metadata": {
        "id": "5ojqB4PlPG4x"
      },
      "source": [
        "# Further ANALYSIS\n",
        "\n"
      ]
    },
    {
      "cell_type": "code",
      "metadata": {
        "id": "GohHKKixR8Hk",
        "outputId": "c288ecc5-d22b-478a-f971-0c0755e61099",
        "colab": {
          "base_uri": "https://localhost:8080/",
          "height": 312
        }
      },
      "source": [
        "plt.xlabel(\"countries\")\n",
        "plt.ylabel(\"count\")\n",
        "plt.title(\"country counts\")\n",
        "vc=train['country'].value_counts()\n",
        "vc.plot.bar(rot=0)"
      ],
      "execution_count": null,
      "outputs": [
        {
          "output_type": "execute_result",
          "data": {
            "text/plain": [
              "<matplotlib.axes._subplots.AxesSubplot at 0x7f414f4d8a58>"
            ]
          },
          "metadata": {
            "tags": []
          },
          "execution_count": 162
        },
        {
          "output_type": "display_data",
          "data": {
            "image/png": "[encoded data removed]",
            "text/plain": [
              "<Figure size 432x288 with 1 Axes>"
            ]
          },
          "metadata": {
            "tags": [],
            "needs_background": "light"
          }
        }
      ]
    },
    {
      "cell_type": "code",
      "metadata": {
        "id": "w-Gv9kgQT-r7"
      },
      "source": [
        "#more than 80% of the projects are made IN US "
      ],
      "execution_count": null,
      "outputs": []
    },
    {
      "cell_type": "code",
      "metadata": {
        "id": "LSjAAsHiUPnc",
        "outputId": "27807800-1d7c-40e1-ec7a-753f0e5834d5",
        "colab": {
          "base_uri": "https://localhost:8080/",
          "height": 312
        }
      },
      "source": [
        "plt.xlabel(\"NOT / Funded\")\n",
        "plt.ylabel(\"count\")\n",
        "plt.title(\"Project acceptence\")\n",
        "vc=train['final_status'].value_counts()\n",
        "vc.plot.bar(rot=0)"
      ],
      "execution_count": null,
      "outputs": [
        {
          "output_type": "execute_result",
          "data": {
            "text/plain": [
              "<matplotlib.axes._subplots.AxesSubplot at 0x7f4149ae7208>"
            ]
          },
          "metadata": {
            "tags": []
          },
          "execution_count": 164
        },
        {
          "output_type": "display_data",
          "data": {
            "image/png": "[encoded data removed]",
            "text/plain": [
              "<Figure size 432x288 with 1 Axes>"
            ]
          },
          "metadata": {
            "tags": [],
            "needs_background": "light"
          }
        }
      ]
    },
    {
      "cell_type": "code",
      "metadata": {
        "id": "fSbW7L3gKtj4",
        "outputId": "6b889527-a048-4d72-c396-5e8d8722f9a0",
        "colab": {
          "base_uri": "https://localhost:8080/",
          "height": 296
        }
      },
      "source": [
        "train.plot.scatter(x=\"tdiff\",y=\"crealaunch\")"
      ],
      "execution_count": null,
      "outputs": [
        {
          "output_type": "execute_result",
          "data": {
            "text/plain": [
              "<matplotlib.axes._subplots.AxesSubplot at 0x7f414f4d87f0>"
            ]
          },
          "metadata": {
            "tags": []
          },
          "execution_count": 165
        },
        {
          "output_type": "display_data",
          "data": {
            "image/png": "[encoded data removed]",
            "text/plain": [
              "<Figure size 432x288 with 1 Axes>"
            ]
          },
          "metadata": {
            "tags": [],
            "needs_background": "light"
          }
        }
      ]
    },
    {
      "cell_type": "code",
      "metadata": {
        "id": "zwmnc6XmRJ48"
      },
      "source": [
        "#the higher tdifference gets, the higher crealaunch gets as well. "
      ],
      "execution_count": null,
      "outputs": []
    },
    {
      "cell_type": "code",
      "metadata": {
        "id": "RXq6k3lXOtqM",
        "outputId": "810b0ca3-b90a-481a-88ca-51cacae8d518",
        "colab": {
          "base_uri": "https://localhost:8080/",
          "height": 296
        }
      },
      "source": [
        "train.plot.scatter(x='crealaunch',y='backers_count')"
      ],
      "execution_count": null,
      "outputs": [
        {
          "output_type": "execute_result",
          "data": {
            "text/plain": [
              "<matplotlib.axes._subplots.AxesSubplot at 0x7f41499514e0>"
            ]
          },
          "metadata": {
            "tags": []
          },
          "execution_count": 167
        },
        {
          "output_type": "display_data",
          "data": {
            "image/png": "[encoded data removed]",
            "text/plain": [
              "<Figure size 432x288 with 1 Axes>"
            ]
          },
          "metadata": {
            "tags": [],
            "needs_background": "light"
          }
        }
      ]
    },
    {
      "cell_type": "code",
      "metadata": {
        "id": "6PJaY-DCQbPZ"
      },
      "source": [
        "#when the difference between creating the project and launching it is between 0 and 1200, it's more likely that the backers count is less than 40000."
      ],
      "execution_count": null,
      "outputs": []
    },
    {
      "cell_type": "code",
      "metadata": {
        "id": "dOg9HyCyRyXv",
        "outputId": "610faa29-a2fc-4638-f340-9ce405269439",
        "colab": {
          "base_uri": "https://localhost:8080/",
          "height": 386
        }
      },
      "source": [
        "sns.relplot(x='crealaunch',y='tdiff',hue='disable_communication',data=train)"
      ],
      "execution_count": null,
      "outputs": [
        {
          "output_type": "execute_result",
          "data": {
            "text/plain": [
              "<seaborn.axisgrid.FacetGrid at 0x7f41498fc7f0>"
            ]
          },
          "metadata": {
            "tags": []
          },
          "execution_count": 169
        },
        {
          "output_type": "display_data",
          "data": {
            "image/png": "[encoded data removed]",
            "text/plain": [
              "<Figure size 514x360 with 1 Axes>"
            ]
          },
          "metadata": {
            "tags": [],
            "needs_background": "light"
          }
        }
      ]
    },
    {
      "cell_type": "code",
      "metadata": {
        "id": "ta-sqo34U_XK"
      },
      "source": [
        "#most of the project haven't disabled communication option which allow them to get donated by people in case they needed help during the project "
      ],
      "execution_count": null,
      "outputs": []
    },
    {
      "cell_type": "code",
      "metadata": {
        "id": "XcceM94WVOL1",
        "outputId": "37e5dc40-93f4-4bbc-d752-4af05600f02c",
        "colab": {
          "base_uri": "https://localhost:8080/",
          "height": 304
        }
      },
      "source": [
        "j_df=pd.DataFrame()\n",
        "j_df['yes'] = train[train['final_status'] == 1]['country'].value_counts()\n",
        "j_df['no'] = train[train['final_status'] == 0]['country'].value_counts()\n",
        "\n",
        "j_df.plot.bar(title = 'country and funding')"
      ],
      "execution_count": null,
      "outputs": [
        {
          "output_type": "execute_result",
          "data": {
            "text/plain": [
              "<matplotlib.axes._subplots.AxesSubplot at 0x7f4149884ef0>"
            ]
          },
          "metadata": {
            "tags": []
          },
          "execution_count": 171
        },
        {
          "output_type": "display_data",
          "data": {
            "image/png": "[encoded data removed]",
            "text/plain": [
              "<Figure size 432x288 with 1 Axes>"
            ]
          },
          "metadata": {
            "tags": [],
            "needs_background": "light"
          }
        }
      ]
    },
    {
      "cell_type": "code",
      "metadata": {
        "id": "1p2AQqFvV-sD",
        "outputId": "5991fa5d-3537-469e-996d-b337669b0470",
        "colab": {
          "base_uri": "https://localhost:8080/",
          "height": 310
        }
      },
      "source": [
        "j_df=pd.DataFrame()\n",
        "j_df['yes'] = train[train['final_status'] == 1]['currency'].value_counts()\n",
        "j_df['no'] = train[train['final_status'] == 0]['currency'].value_counts()\n",
        "\n",
        "j_df.plot.bar(title = 'country and funding')"
      ],
      "execution_count": null,
      "outputs": [
        {
          "output_type": "execute_result",
          "data": {
            "text/plain": [
              "<matplotlib.axes._subplots.AxesSubplot at 0x7f4149741fd0>"
            ]
          },
          "metadata": {
            "tags": []
          },
          "execution_count": 172
        },
        {
          "output_type": "display_data",
          "data": {
            "image/png": "[encoded data removed]",
            "text/plain": [
              "<Figure size 432x288 with 1 Axes>"
            ]
          },
          "metadata": {
            "tags": [],
            "needs_background": "light"
          }
        }
      ]
    },
    {
      "cell_type": "code",
      "metadata": {
        "id": "x9F3XwiGXZd6"
      },
      "source": [
        "train.drop('project_id',axis=1,inplace=True)"
      ],
      "execution_count": null,
      "outputs": []
    },
    {
      "cell_type": "code",
      "metadata": {
        "id": "MLjSO5L9UwEg",
        "outputId": "65b43a62-45a6-467b-cdf3-ebb8560aa951",
        "colab": {
          "base_uri": "https://localhost:8080/",
          "height": 1000
        }
      },
      "source": [
        "train"
      ],
      "execution_count": null,
      "outputs": [
        {
          "output_type": "execute_result",
          "data": {
            "text/html": [
              "<div>\n",
              "<style scoped>\n",
              "    .dataframe tbody tr th:only-of-type {\n",
              "        vertical-align: middle;\n",
              "    }\n",
              "\n",
              "    .dataframe tbody tr th {\n",
              "        vertical-align: top;\n",
              "    }\n",
              "\n",
              "    .dataframe thead th {\n",
              "        text-align: right;\n",
              "    }\n",
              "</style>\n",
              "<table border=\"1\" class=\"dataframe\">\n",
              "  <thead>\n",
              "    <tr style=\"text-align: right;\">\n",
              "      <th></th>\n",
              "      <th>name</th>\n",
              "      <th>name_words</th>\n",
              "      <th>desc</th>\n",
              "      <th>goal</th>\n",
              "      <th>keywords</th>\n",
              "      <th>disable_communication</th>\n",
              "      <th>country</th>\n",
              "      <th>currency</th>\n",
              "      <th>deadline</th>\n",
              "      <th>tdiff</th>\n",
              "      <th>state_changed_at</th>\n",
              "      <th>year_launched</th>\n",
              "      <th>created_at</th>\n",
              "      <th>month_launched</th>\n",
              "      <th>launched_at</th>\n",
              "      <th>crealaunch</th>\n",
              "      <th>statelaunch</th>\n",
              "      <th>backers_count</th>\n",
              "      <th>final_status</th>\n",
              "    </tr>\n",
              "  </thead>\n",
              "  <tbody>\n",
              "    <tr>\n",
              "      <th>0</th>\n",
              "      <td>drawing for dollars</td>\n",
              "      <td>3</td>\n",
              "      <td>I like drawing pictures. and then i color them...</td>\n",
              "      <td>20.0</td>\n",
              "      <td>drawing-for-dollars</td>\n",
              "      <td>False</td>\n",
              "      <td>US</td>\n",
              "      <td>USD</td>\n",
              "      <td>2009-05-03</td>\n",
              "      <td>9</td>\n",
              "      <td>2009-05-03</td>\n",
              "      <td>2009</td>\n",
              "      <td>2009-04-24</td>\n",
              "      <td>4</td>\n",
              "      <td>2009-04-24</td>\n",
              "      <td>0</td>\n",
              "      <td>9</td>\n",
              "      <td>3</td>\n",
              "      <td>1</td>\n",
              "    </tr>\n",
              "    <tr>\n",
              "      <th>1</th>\n",
              "      <td>sponsor dereck blackburn (lostwars) artist in ...</td>\n",
              "      <td>10</td>\n",
              "      <td>I, Dereck Blackburn will be taking upon an inc...</td>\n",
              "      <td>300.0</td>\n",
              "      <td>sponsor-dereck-blackburn-lostwars-artist-in-re...</td>\n",
              "      <td>False</td>\n",
              "      <td>US</td>\n",
              "      <td>USD</td>\n",
              "      <td>2009-05-15</td>\n",
              "      <td>17</td>\n",
              "      <td>2009-05-16</td>\n",
              "      <td>2009</td>\n",
              "      <td>2009-04-28</td>\n",
              "      <td>4</td>\n",
              "      <td>2009-04-29</td>\n",
              "      <td>1</td>\n",
              "      <td>17</td>\n",
              "      <td>2</td>\n",
              "      <td>0</td>\n",
              "    </tr>\n",
              "    <tr>\n",
              "      <th>2</th>\n",
              "      <td>mr. squiggles</td>\n",
              "      <td>2</td>\n",
              "      <td>So I saw darkpony's successfully funded drawin...</td>\n",
              "      <td>30.0</td>\n",
              "      <td>mr-squiggles</td>\n",
              "      <td>False</td>\n",
              "      <td>US</td>\n",
              "      <td>USD</td>\n",
              "      <td>2009-05-22</td>\n",
              "      <td>10</td>\n",
              "      <td>2009-05-22</td>\n",
              "      <td>2009</td>\n",
              "      <td>2009-05-12</td>\n",
              "      <td>5</td>\n",
              "      <td>2009-05-12</td>\n",
              "      <td>0</td>\n",
              "      <td>10</td>\n",
              "      <td>0</td>\n",
              "      <td>0</td>\n",
              "    </tr>\n",
              "    <tr>\n",
              "      <th>3</th>\n",
              "      <td>help me write my second novel.</td>\n",
              "      <td>6</td>\n",
              "      <td>Do your part to help out starving artists and ...</td>\n",
              "      <td>500.0</td>\n",
              "      <td>help-me-write-my-second-novel</td>\n",
              "      <td>False</td>\n",
              "      <td>US</td>\n",
              "      <td>USD</td>\n",
              "      <td>2009-05-29</td>\n",
              "      <td>30</td>\n",
              "      <td>2009-05-29</td>\n",
              "      <td>2009</td>\n",
              "      <td>2009-04-29</td>\n",
              "      <td>4</td>\n",
              "      <td>2009-04-29</td>\n",
              "      <td>0</td>\n",
              "      <td>30</td>\n",
              "      <td>18</td>\n",
              "      <td>1</td>\n",
              "    </tr>\n",
              "    <tr>\n",
              "      <th>4</th>\n",
              "      <td>support casting my sculpture in bronze</td>\n",
              "      <td>6</td>\n",
              "      <td>I'm nearing completion on a sculpture, current...</td>\n",
              "      <td>2000.0</td>\n",
              "      <td>support-casting-my-sculpture-in-bronze</td>\n",
              "      <td>False</td>\n",
              "      <td>US</td>\n",
              "      <td>USD</td>\n",
              "      <td>2009-05-31</td>\n",
              "      <td>30</td>\n",
              "      <td>2009-05-31</td>\n",
              "      <td>2009</td>\n",
              "      <td>2009-05-01</td>\n",
              "      <td>5</td>\n",
              "      <td>2009-05-01</td>\n",
              "      <td>0</td>\n",
              "      <td>30</td>\n",
              "      <td>1</td>\n",
              "      <td>0</td>\n",
              "    </tr>\n",
              "    <tr>\n",
              "      <th>...</th>\n",
              "      <td>...</td>\n",
              "      <td>...</td>\n",
              "      <td>...</td>\n",
              "      <td>...</td>\n",
              "      <td>...</td>\n",
              "      <td>...</td>\n",
              "      <td>...</td>\n",
              "      <td>...</td>\n",
              "      <td>...</td>\n",
              "      <td>...</td>\n",
              "      <td>...</td>\n",
              "      <td>...</td>\n",
              "      <td>...</td>\n",
              "      <td>...</td>\n",
              "      <td>...</td>\n",
              "      <td>...</td>\n",
              "      <td>...</td>\n",
              "      <td>...</td>\n",
              "      <td>...</td>\n",
              "    </tr>\n",
              "    <tr>\n",
              "      <th>108124</th>\n",
              "      <td>custom wearable art</td>\n",
              "      <td>3</td>\n",
              "      <td>Sacred geometry art and custom clothing. Embro...</td>\n",
              "      <td>2000.0</td>\n",
              "      <td>custom-wearable-art</td>\n",
              "      <td>False</td>\n",
              "      <td>US</td>\n",
              "      <td>USD</td>\n",
              "      <td>2015-05-31</td>\n",
              "      <td>43</td>\n",
              "      <td>2015-05-31</td>\n",
              "      <td>2015</td>\n",
              "      <td>2015-04-18</td>\n",
              "      <td>5</td>\n",
              "      <td>2015-05-01</td>\n",
              "      <td>13</td>\n",
              "      <td>30</td>\n",
              "      <td>3</td>\n",
              "      <td>0</td>\n",
              "    </tr>\n",
              "    <tr>\n",
              "      <th>108125</th>\n",
              "      <td>painted modern wall art mid-century!  $100 for...</td>\n",
              "      <td>8</td>\n",
              "      <td>I want to create pieces very similar to this o...</td>\n",
              "      <td>15000.0</td>\n",
              "      <td>zacharys-art-project</td>\n",
              "      <td>False</td>\n",
              "      <td>US</td>\n",
              "      <td>USD</td>\n",
              "      <td>2015-05-31</td>\n",
              "      <td>55</td>\n",
              "      <td>2015-05-31</td>\n",
              "      <td>2015</td>\n",
              "      <td>2015-04-06</td>\n",
              "      <td>4</td>\n",
              "      <td>2015-04-06</td>\n",
              "      <td>0</td>\n",
              "      <td>55</td>\n",
              "      <td>1</td>\n",
              "      <td>0</td>\n",
              "    </tr>\n",
              "    <tr>\n",
              "      <th>108126</th>\n",
              "      <td>creating high quality art prints from the arti...</td>\n",
              "      <td>9</td>\n",
              "      <td>I am seeking to produce prints to promote my r...</td>\n",
              "      <td>320.0</td>\n",
              "      <td>creating-high-quality-art-prints-from-the-arti...</td>\n",
              "      <td>False</td>\n",
              "      <td>US</td>\n",
              "      <td>USD</td>\n",
              "      <td>2015-05-31</td>\n",
              "      <td>31</td>\n",
              "      <td>2015-05-31</td>\n",
              "      <td>2015</td>\n",
              "      <td>2015-04-30</td>\n",
              "      <td>5</td>\n",
              "      <td>2015-05-01</td>\n",
              "      <td>1</td>\n",
              "      <td>30</td>\n",
              "      <td>11</td>\n",
              "      <td>1</td>\n",
              "    </tr>\n",
              "    <tr>\n",
              "      <th>108127</th>\n",
              "      <td>back to basics</td>\n",
              "      <td>3</td>\n",
              "      <td>A self sustaining homestead with organic produ...</td>\n",
              "      <td>35000.0</td>\n",
              "      <td>back-to-basics-2</td>\n",
              "      <td>False</td>\n",
              "      <td>US</td>\n",
              "      <td>USD</td>\n",
              "      <td>2015-05-31</td>\n",
              "      <td>35</td>\n",
              "      <td>2015-05-31</td>\n",
              "      <td>2015</td>\n",
              "      <td>2015-04-26</td>\n",
              "      <td>4</td>\n",
              "      <td>2015-04-30</td>\n",
              "      <td>4</td>\n",
              "      <td>31</td>\n",
              "      <td>0</td>\n",
              "      <td>0</td>\n",
              "    </tr>\n",
              "    <tr>\n",
              "      <th>108128</th>\n",
              "      <td>happy olive, mediterranean wraps</td>\n",
              "      <td>4</td>\n",
              "      <td>Mediterranean Wraps, done right!</td>\n",
              "      <td>25000.0</td>\n",
              "      <td>happy-olive-mediterranean-wraps</td>\n",
              "      <td>False</td>\n",
              "      <td>US</td>\n",
              "      <td>USD</td>\n",
              "      <td>2015-05-31</td>\n",
              "      <td>45</td>\n",
              "      <td>2015-05-31</td>\n",
              "      <td>2015</td>\n",
              "      <td>2015-04-16</td>\n",
              "      <td>4</td>\n",
              "      <td>2015-04-16</td>\n",
              "      <td>0</td>\n",
              "      <td>45</td>\n",
              "      <td>1</td>\n",
              "      <td>0</td>\n",
              "    </tr>\n",
              "  </tbody>\n",
              "</table>\n",
              "<p>108119 rows × 19 columns</p>\n",
              "</div>"
            ],
            "text/plain": [
              "                                                     name  ...  final_status\n",
              "0                                     drawing for dollars  ...             1\n",
              "1       sponsor dereck blackburn (lostwars) artist in ...  ...             0\n",
              "2                                           mr. squiggles  ...             0\n",
              "3                          help me write my second novel.  ...             1\n",
              "4                  support casting my sculpture in bronze  ...             0\n",
              "...                                                   ...  ...           ...\n",
              "108124                                custom wearable art  ...             0\n",
              "108125  painted modern wall art mid-century!  $100 for...  ...             0\n",
              "108126  creating high quality art prints from the arti...  ...             1\n",
              "108127                                     back to basics  ...             0\n",
              "108128                   happy olive, mediterranean wraps  ...             0\n",
              "\n",
              "[108119 rows x 19 columns]"
            ]
          },
          "metadata": {
            "tags": []
          },
          "execution_count": 174
        }
      ]
    },
    {
      "cell_type": "code",
      "metadata": {
        "id": "-lWmjm47U7Qz"
      },
      "source": [
        "#There is such thing named influence and good impression, our question is the following, is there an impact given by the name of the work or not? is the more words you have the more you got listened to or not? \n",
        "#let's find out\n"
      ],
      "execution_count": null,
      "outputs": []
    },
    {
      "cell_type": "code",
      "metadata": {
        "id": "tqdM8LIQVycM",
        "outputId": "c0fe2a7a-b289-47ef-f410-fb25ad0390b8",
        "colab": {
          "base_uri": "https://localhost:8080/",
          "height": 301
        }
      },
      "source": [
        "j_df=pd.DataFrame()\n",
        "j_df['yes'] = train[train['final_status'] == 1]['name_words'].value_counts()\n",
        "j_df['no'] = train[train['final_status'] == 0]['name_words'].value_counts()\n",
        "\n",
        "j_df.plot.bar(title = 'name of words and funding')"
      ],
      "execution_count": null,
      "outputs": [
        {
          "output_type": "execute_result",
          "data": {
            "text/plain": [
              "<matplotlib.axes._subplots.AxesSubplot at 0x7f414cebccf8>"
            ]
          },
          "metadata": {
            "tags": []
          },
          "execution_count": 176
        },
        {
          "output_type": "display_data",
          "data": {
            "image/png": "[encoded data removed]",
            "text/plain": [
              "<Figure size 432x288 with 1 Axes>"
            ]
          },
          "metadata": {
            "tags": [],
            "needs_background": "light"
          }
        }
      ]
    },
    {
      "cell_type": "code",
      "metadata": {
        "id": "CJ3bWQPfVzRa"
      },
      "source": [
        "#it seems like it's the other way around, the more words you have less chance to get accepted or funded"
      ],
      "execution_count": null,
      "outputs": []
    },
    {
      "cell_type": "code",
      "metadata": {
        "id": "aWdEcW5xWDtG"
      },
      "source": [
        "#what about the goal set? is it a very informative character? \n",
        "#first we need to range it. \n",
        "goals_dic={}\n",
        "for i in train['goal']:\n",
        "  if i<1000: \n",
        "    goals_dic[i]='<1000'\n",
        "  elif i<10000:\n",
        "    goals_dic[i]='<10000'\n",
        "  elif i<100000:\n",
        "    goals_dic[i]='<100000'\n",
        "  else:\n",
        "    goals_dic[i]='>100000'"
      ],
      "execution_count": null,
      "outputs": []
    },
    {
      "cell_type": "code",
      "metadata": {
        "id": "k1KGlQ9RW7G3"
      },
      "source": [
        "train2['goal']=train['goal'].map(goals_dic)"
      ],
      "execution_count": null,
      "outputs": []
    },
    {
      "cell_type": "code",
      "metadata": {
        "id": "nAr4qnL6Xgb-",
        "outputId": "757809d7-7842-4625-c01b-db5ce6d94d6f",
        "colab": {
          "base_uri": "https://localhost:8080/",
          "height": 334
        }
      },
      "source": [
        "j_df=pd.DataFrame()\n",
        "j_df['yes'] = train2[train2['final_status'] == 1]['goal'].value_counts()\n",
        "j_df['no'] = train2[train2['final_status'] == 0]['goal'].value_counts()\n",
        "\n",
        "j_df.plot.bar(title = 'goal and acceptence')"
      ],
      "execution_count": null,
      "outputs": [
        {
          "output_type": "execute_result",
          "data": {
            "text/plain": [
              "<matplotlib.axes._subplots.AxesSubplot at 0x7f414f76e208>"
            ]
          },
          "metadata": {
            "tags": []
          },
          "execution_count": 180
        },
        {
          "output_type": "display_data",
          "data": {
            "image/png": "[encoded data removed]",
            "text/plain": [
              "<Figure size 432x288 with 1 Axes>"
            ]
          },
          "metadata": {
            "tags": [],
            "needs_background": "light"
          }
        }
      ]
    },
    {
      "cell_type": "code",
      "metadata": {
        "id": "r5qwoBFXX_pY"
      },
      "source": [
        "#about 40% of those who choose a goal <1000 got accepted which is the best rate for success, so starting a simple idea with a simple goais better as it seems"
      ],
      "execution_count": null,
      "outputs": []
    },
    {
      "cell_type": "code",
      "metadata": {
        "id": "oxN3DzXHg4f9",
        "outputId": "cd4605f5-6e51-43d0-c278-6d5de2854919",
        "colab": {
          "base_uri": "https://localhost:8080/",
          "height": 269
        }
      },
      "source": [
        "train['crealaunch'].value_counts()[train['crealaunch'].value_counts()>2000]"
      ],
      "execution_count": null,
      "outputs": [
        {
          "output_type": "execute_result",
          "data": {
            "text/plain": [
              "0     9422\n",
              "1     8080\n",
              "2     6529\n",
              "3     5796\n",
              "4     4823\n",
              "5     4345\n",
              "6     3952\n",
              "7     3606\n",
              "8     3122\n",
              "9     2533\n",
              "10    2288\n",
              "11    2033\n",
              "12    2020\n",
              "13    2002\n",
              "Name: crealaunch, dtype: int64"
            ]
          },
          "metadata": {
            "tags": []
          },
          "execution_count": 182
        }
      ]
    },
    {
      "cell_type": "code",
      "metadata": {
        "id": "Vr2E1LGrg7w4",
        "outputId": "0e360ea5-9f41-4dab-eaa5-d8c1114c59eb",
        "colab": {
          "base_uri": "https://localhost:8080/",
          "height": 67
        }
      },
      "source": [
        "train['final_status'][train['crealaunch']==4].value_counts()"
      ],
      "execution_count": null,
      "outputs": [
        {
          "output_type": "execute_result",
          "data": {
            "text/plain": [
              "0    3429\n",
              "1    1394\n",
              "Name: final_status, dtype: int64"
            ]
          },
          "metadata": {
            "tags": []
          },
          "execution_count": 183
        }
      ]
    },
    {
      "cell_type": "code",
      "metadata": {
        "id": "BsSm_lUchvzF",
        "outputId": "ee8ff042-6efe-4170-f238-f446fe7ea020",
        "colab": {
          "base_uri": "https://localhost:8080/",
          "height": 388
        }
      },
      "source": [
        "j_df=pd.DataFrame()\n",
        "j_df['yes'] = train[train2['final_status'] == 1]['crealaunch'].value_counts()[train['crealaunch'].value_counts()>2000]\n",
        "j_df['no'] = train[train2['final_status'] == 0]['crealaunch'].value_counts()[train['crealaunch'].value_counts()>2000]\n",
        "\n",
        "j_df.plot.bar(title = 'crealaunch and acceptence')"
      ],
      "execution_count": null,
      "outputs": [
        {
          "output_type": "stream",
          "text": [
            "/usr/local/lib/python3.6/dist-packages/ipykernel_launcher.py:2: UserWarning: Boolean Series key will be reindexed to match DataFrame index.\n",
            "  \n",
            "/usr/local/lib/python3.6/dist-packages/ipykernel_launcher.py:3: UserWarning: Boolean Series key will be reindexed to match DataFrame index.\n",
            "  This is separate from the ipykernel package so we can avoid doing imports until\n"
          ],
          "name": "stderr"
        },
        {
          "output_type": "execute_result",
          "data": {
            "text/plain": [
              "<matplotlib.axes._subplots.AxesSubplot at 0x7f414f7e6128>"
            ]
          },
          "metadata": {
            "tags": []
          },
          "execution_count": 184
        },
        {
          "output_type": "display_data",
          "data": {
            "image/png": "[encoded data removed]",
            "text/plain": [
              "<Figure size 432x288 with 1 Axes>"
            ]
          },
          "metadata": {
            "tags": [],
            "needs_background": "light"
          }
        }
      ]
    },
    {
      "cell_type": "code",
      "metadata": {
        "id": "RCxhK0W9ja1_"
      },
      "source": [
        "#the more days you have from creation date to the launching date, the more chance you got to get accepted and funded as it is shown."
      ],
      "execution_count": null,
      "outputs": []
    },
    {
      "cell_type": "code",
      "metadata": {
        "id": "WtBT35rokrYN",
        "outputId": "804d6d24-5f11-4297-892b-ce835bd32135",
        "colab": {
          "base_uri": "https://localhost:8080/",
          "height": 388
        }
      },
      "source": [
        "j_df=pd.DataFrame()\n",
        "j_df['yes'] = train[train2['final_status'] == 1]['tdiff'].value_counts()[train['tdiff'].value_counts()>2000]\n",
        "j_df['no'] = train[train2['final_status'] == 0]['tdiff'].value_counts()[train['tdiff'].value_counts()>2000]\n",
        "\n",
        "j_df.plot.bar(title = 'tdiff and acceptence')"
      ],
      "execution_count": null,
      "outputs": [
        {
          "output_type": "stream",
          "text": [
            "/usr/local/lib/python3.6/dist-packages/ipykernel_launcher.py:2: UserWarning: Boolean Series key will be reindexed to match DataFrame index.\n",
            "  \n",
            "/usr/local/lib/python3.6/dist-packages/ipykernel_launcher.py:3: UserWarning: Boolean Series key will be reindexed to match DataFrame index.\n",
            "  This is separate from the ipykernel package so we can avoid doing imports until\n"
          ],
          "name": "stderr"
        },
        {
          "output_type": "execute_result",
          "data": {
            "text/plain": [
              "<matplotlib.axes._subplots.AxesSubplot at 0x7f414cea2c50>"
            ]
          },
          "metadata": {
            "tags": []
          },
          "execution_count": 186
        },
        {
          "output_type": "display_data",
          "data": {
            "image/png": "[encoded data removed]",
            "text/plain": [
              "<Figure size 432x288 with 1 Axes>"
            ]
          },
          "metadata": {
            "tags": [],
            "needs_background": "light"
          }
        }
      ]
    },
    {
      "cell_type": "code",
      "metadata": {
        "id": "X2SkVDyAkxyK"
      },
      "source": [
        "#the possibility of getting accepted reaches the highest value when it's in 37 days, and reaches the least value when it is in 30 days\n",
        "#let's find out the crealaunch of these two values?"
      ],
      "execution_count": null,
      "outputs": []
    },
    {
      "cell_type": "code",
      "metadata": {
        "id": "QORRvgf1lYmN",
        "outputId": "f38fa6d6-2ea6-4dec-95ff-fafda429d89a",
        "colab": {
          "base_uri": "https://localhost:8080/",
          "height": 521
        }
      },
      "source": [
        "train['crealaunch'][train['tdiff']==37].value_counts()"
      ],
      "execution_count": null,
      "outputs": [
        {
          "output_type": "execute_result",
          "data": {
            "text/plain": [
              "7     1540\n",
              "6      117\n",
              "2       97\n",
              "5       78\n",
              "4       59\n",
              "8       48\n",
              "1       46\n",
              "3       40\n",
              "12      38\n",
              "16      38\n",
              "0       38\n",
              "9       34\n",
              "22      21\n",
              "14      20\n",
              "15      18\n",
              "17      18\n",
              "11      17\n",
              "10      17\n",
              "13      12\n",
              "23      11\n",
              "18       9\n",
              "21       8\n",
              "19       6\n",
              "20       4\n",
              "25       2\n",
              "27       2\n",
              "34       1\n",
              "29       1\n",
              "31       1\n",
              "Name: crealaunch, dtype: int64"
            ]
          },
          "metadata": {
            "tags": []
          },
          "execution_count": 188
        }
      ]
    },
    {
      "cell_type": "code",
      "metadata": {
        "id": "zXMlAMIglfiG"
      },
      "source": [
        "#7 is the most frequent value for those who have tdiff=37, and what we found is amazing 7 is the best value for the crealaunch to get accepted."
      ],
      "execution_count": null,
      "outputs": []
    },
    {
      "cell_type": "code",
      "metadata": {
        "id": "y6OAZQ6Olzxh",
        "outputId": "e399f8db-fcfa-411d-9d29-c99d7fd1b1a5",
        "colab": {
          "base_uri": "https://localhost:8080/",
          "height": 518
        }
      },
      "source": [
        "train.tail()"
      ],
      "execution_count": null,
      "outputs": [
        {
          "output_type": "execute_result",
          "data": {
            "text/html": [
              "<div>\n",
              "<style scoped>\n",
              "    .dataframe tbody tr th:only-of-type {\n",
              "        vertical-align: middle;\n",
              "    }\n",
              "\n",
              "    .dataframe tbody tr th {\n",
              "        vertical-align: top;\n",
              "    }\n",
              "\n",
              "    .dataframe thead th {\n",
              "        text-align: right;\n",
              "    }\n",
              "</style>\n",
              "<table border=\"1\" class=\"dataframe\">\n",
              "  <thead>\n",
              "    <tr style=\"text-align: right;\">\n",
              "      <th></th>\n",
              "      <th>name</th>\n",
              "      <th>name_words</th>\n",
              "      <th>desc</th>\n",
              "      <th>goal</th>\n",
              "      <th>keywords</th>\n",
              "      <th>disable_communication</th>\n",
              "      <th>country</th>\n",
              "      <th>currency</th>\n",
              "      <th>deadline</th>\n",
              "      <th>tdiff</th>\n",
              "      <th>state_changed_at</th>\n",
              "      <th>year_launched</th>\n",
              "      <th>created_at</th>\n",
              "      <th>month_launched</th>\n",
              "      <th>launched_at</th>\n",
              "      <th>crealaunch</th>\n",
              "      <th>statelaunch</th>\n",
              "      <th>backers_count</th>\n",
              "      <th>final_status</th>\n",
              "    </tr>\n",
              "  </thead>\n",
              "  <tbody>\n",
              "    <tr>\n",
              "      <th>108124</th>\n",
              "      <td>custom wearable art</td>\n",
              "      <td>3</td>\n",
              "      <td>Sacred geometry art and custom clothing. Embro...</td>\n",
              "      <td>2000.0</td>\n",
              "      <td>custom-wearable-art</td>\n",
              "      <td>False</td>\n",
              "      <td>US</td>\n",
              "      <td>USD</td>\n",
              "      <td>2015-05-31</td>\n",
              "      <td>43</td>\n",
              "      <td>2015-05-31</td>\n",
              "      <td>2015</td>\n",
              "      <td>2015-04-18</td>\n",
              "      <td>5</td>\n",
              "      <td>2015-05-01</td>\n",
              "      <td>13</td>\n",
              "      <td>30</td>\n",
              "      <td>3</td>\n",
              "      <td>0</td>\n",
              "    </tr>\n",
              "    <tr>\n",
              "      <th>108125</th>\n",
              "      <td>painted modern wall art mid-century!  $100 for...</td>\n",
              "      <td>8</td>\n",
              "      <td>I want to create pieces very similar to this o...</td>\n",
              "      <td>15000.0</td>\n",
              "      <td>zacharys-art-project</td>\n",
              "      <td>False</td>\n",
              "      <td>US</td>\n",
              "      <td>USD</td>\n",
              "      <td>2015-05-31</td>\n",
              "      <td>55</td>\n",
              "      <td>2015-05-31</td>\n",
              "      <td>2015</td>\n",
              "      <td>2015-04-06</td>\n",
              "      <td>4</td>\n",
              "      <td>2015-04-06</td>\n",
              "      <td>0</td>\n",
              "      <td>55</td>\n",
              "      <td>1</td>\n",
              "      <td>0</td>\n",
              "    </tr>\n",
              "    <tr>\n",
              "      <th>108126</th>\n",
              "      <td>creating high quality art prints from the arti...</td>\n",
              "      <td>9</td>\n",
              "      <td>I am seeking to produce prints to promote my r...</td>\n",
              "      <td>320.0</td>\n",
              "      <td>creating-high-quality-art-prints-from-the-arti...</td>\n",
              "      <td>False</td>\n",
              "      <td>US</td>\n",
              "      <td>USD</td>\n",
              "      <td>2015-05-31</td>\n",
              "      <td>31</td>\n",
              "      <td>2015-05-31</td>\n",
              "      <td>2015</td>\n",
              "      <td>2015-04-30</td>\n",
              "      <td>5</td>\n",
              "      <td>2015-05-01</td>\n",
              "      <td>1</td>\n",
              "      <td>30</td>\n",
              "      <td>11</td>\n",
              "      <td>1</td>\n",
              "    </tr>\n",
              "    <tr>\n",
              "      <th>108127</th>\n",
              "      <td>back to basics</td>\n",
              "      <td>3</td>\n",
              "      <td>A self sustaining homestead with organic produ...</td>\n",
              "      <td>35000.0</td>\n",
              "      <td>back-to-basics-2</td>\n",
              "      <td>False</td>\n",
              "      <td>US</td>\n",
              "      <td>USD</td>\n",
              "      <td>2015-05-31</td>\n",
              "      <td>35</td>\n",
              "      <td>2015-05-31</td>\n",
              "      <td>2015</td>\n",
              "      <td>2015-04-26</td>\n",
              "      <td>4</td>\n",
              "      <td>2015-04-30</td>\n",
              "      <td>4</td>\n",
              "      <td>31</td>\n",
              "      <td>0</td>\n",
              "      <td>0</td>\n",
              "    </tr>\n",
              "    <tr>\n",
              "      <th>108128</th>\n",
              "      <td>happy olive, mediterranean wraps</td>\n",
              "      <td>4</td>\n",
              "      <td>Mediterranean Wraps, done right!</td>\n",
              "      <td>25000.0</td>\n",
              "      <td>happy-olive-mediterranean-wraps</td>\n",
              "      <td>False</td>\n",
              "      <td>US</td>\n",
              "      <td>USD</td>\n",
              "      <td>2015-05-31</td>\n",
              "      <td>45</td>\n",
              "      <td>2015-05-31</td>\n",
              "      <td>2015</td>\n",
              "      <td>2015-04-16</td>\n",
              "      <td>4</td>\n",
              "      <td>2015-04-16</td>\n",
              "      <td>0</td>\n",
              "      <td>45</td>\n",
              "      <td>1</td>\n",
              "      <td>0</td>\n",
              "    </tr>\n",
              "  </tbody>\n",
              "</table>\n",
              "</div>"
            ],
            "text/plain": [
              "                                                     name  ...  final_status\n",
              "108124                                custom wearable art  ...             0\n",
              "108125  painted modern wall art mid-century!  $100 for...  ...             0\n",
              "108126  creating high quality art prints from the arti...  ...             1\n",
              "108127                                     back to basics  ...             0\n",
              "108128                   happy olive, mediterranean wraps  ...             0\n",
              "\n",
              "[5 rows x 19 columns]"
            ]
          },
          "metadata": {
            "tags": []
          },
          "execution_count": 190
        }
      ]
    },
    {
      "cell_type": "code",
      "metadata": {
        "id": "5FYZ1t1_xmpV",
        "outputId": "307f6d15-2dd8-4d90-f35c-62ee37128952",
        "colab": {
          "base_uri": "https://localhost:8080/",
          "height": 301
        }
      },
      "source": [
        "j_df=pd.DataFrame()\n",
        "j_df['yes'] = train[train['final_status'] == 1]['month_launched'].value_counts()\n",
        "j_df['no'] = train[train['final_status'] == 0]['month_launched'].value_counts()\n",
        "\n",
        "j_df.plot.bar(title = 'month and acceptence')"
      ],
      "execution_count": null,
      "outputs": [
        {
          "output_type": "execute_result",
          "data": {
            "text/plain": [
              "<matplotlib.axes._subplots.AxesSubplot at 0x7f414e07b6a0>"
            ]
          },
          "metadata": {
            "tags": []
          },
          "execution_count": 191
        },
        {
          "output_type": "display_data",
          "data": {
            "image/png": "[encoded data removed]",
            "text/plain": [
              "<Figure size 432x288 with 1 Axes>"
            ]
          },
          "metadata": {
            "tags": [],
            "needs_background": "light"
          }
        }
      ]
    },
    {
      "cell_type": "code",
      "metadata": {
        "id": "UdyNn2oX2DLQ"
      },
      "source": [
        "# as we can see the possiblity is higher in the 5th month 'may' and 'june', and drops a lot in the 7th month"
      ],
      "execution_count": null,
      "outputs": []
    },
    {
      "cell_type": "code",
      "metadata": {
        "id": "6F6ds7wj2v6y",
        "outputId": "7e0dd5aa-d11e-4b14-86a1-18f9c22ac614",
        "colab": {
          "base_uri": "https://localhost:8080/",
          "height": 218
        }
      },
      "source": [
        "train['tdiff'][train['month_launched']==5].value_counts()"
      ],
      "execution_count": null,
      "outputs": [
        {
          "output_type": "execute_result",
          "data": {
            "text/plain": [
              "32     249\n",
              "31     236\n",
              "33     227\n",
              "35     212\n",
              "34     209\n",
              "      ... \n",
              "685      1\n",
              "645      1\n",
              "641      1\n",
              "629      1\n",
              "4        1\n",
              "Name: tdiff, Length: 432, dtype: int64"
            ]
          },
          "metadata": {
            "tags": []
          },
          "execution_count": 193
        }
      ]
    },
    {
      "cell_type": "code",
      "metadata": {
        "id": "mzut7Zp82zaa"
      },
      "source": [
        "#as we can see those who finally launched their product in the 5th month have already done with their work before at least 200 days."
      ],
      "execution_count": null,
      "outputs": []
    },
    {
      "cell_type": "code",
      "metadata": {
        "id": "mkueauUM3Gq3",
        "outputId": "1ea8a645-ec73-409d-9f53-df960909a7f8",
        "colab": {
          "base_uri": "https://localhost:8080/",
          "height": 230
        }
      },
      "source": [
        "train['goal'][train['month_launched']==5].value_counts()"
      ],
      "execution_count": null,
      "outputs": [
        {
          "output_type": "execute_result",
          "data": {
            "text/plain": [
              "5000.0      611\n",
              "10000.0     475\n",
              "1000.0      371\n",
              "3000.0      364\n",
              "2000.0      352\n",
              "           ... \n",
              "850000.0      1\n",
              "6672.0        1\n",
              "8889.0        1\n",
              "2033.0        1\n",
              "140.0         1\n",
              "Name: goal, Length: 636, dtype: int64"
            ]
          },
          "metadata": {
            "tags": []
          },
          "execution_count": 195
        }
      ]
    },
    {
      "cell_type": "code",
      "metadata": {
        "id": "fVHVD6cI3LqY"
      },
      "source": [
        "#the goal of those who have launched their project in the 5th month is at least 1000 dollars."
      ],
      "execution_count": null,
      "outputs": []
    },
    {
      "cell_type": "code",
      "metadata": {
        "id": "4WydGA2i3bc0"
      },
      "source": [
        "#ok now does the goal get higher in a higher year? "
      ],
      "execution_count": null,
      "outputs": []
    },
    {
      "cell_type": "code",
      "metadata": {
        "id": "wfvqv1Sk4h_C"
      },
      "source": [
        "train.drop(['launched_at','state_changed_at','created_at','deadline','desc','name','keywords','country','currency'],axis=1,inplace=True)"
      ],
      "execution_count": null,
      "outputs": []
    },
    {
      "cell_type": "code",
      "metadata": {
        "id": "_gyO8nMa5_aW"
      },
      "source": [
        "from keras.utils import to_categorical\n",
        "train['disable_communication']=to_categorical(train['disable_communication'],2)"
      ],
      "execution_count": null,
      "outputs": []
    },
    {
      "cell_type": "code",
      "metadata": {
        "id": "Rq1ndJ--5qBg",
        "outputId": "010348b1-77eb-4b38-f46a-645ff88b8712",
        "colab": {
          "base_uri": "https://localhost:8080/",
          "height": 247
        }
      },
      "source": [
        "from sklearn.linear_model import LogisticRegression\n",
        "logisticRegr=LogisticRegression()\n",
        "logisticRegr.fit(x_train,y_train)"
      ],
      "execution_count": null,
      "outputs": [
        {
          "output_type": "stream",
          "text": [
            "/usr/local/lib/python3.6/dist-packages/sklearn/linear_model/_logistic.py:940: ConvergenceWarning: lbfgs failed to converge (status=1):\n",
            "STOP: TOTAL NO. of ITERATIONS REACHED LIMIT.\n",
            "\n",
            "Increase the number of iterations (max_iter) or scale the data as shown in:\n",
            "    https://scikit-learn.org/stable/modules/preprocessing.html\n",
            "Please also refer to the documentation for alternative solver options:\n",
            "    https://scikit-learn.org/stable/modules/linear_model.html#logistic-regression\n",
            "  extra_warning_msg=_LOGISTIC_SOLVER_CONVERGENCE_MSG)\n"
          ],
          "name": "stderr"
        },
        {
          "output_type": "execute_result",
          "data": {
            "text/plain": [
              "LogisticRegression(C=1.0, class_weight=None, dual=False, fit_intercept=True,\n",
              "                   intercept_scaling=1, l1_ratio=None, max_iter=100,\n",
              "                   multi_class='auto', n_jobs=None, penalty='l2',\n",
              "                   random_state=None, solver='lbfgs', tol=0.0001, verbose=0,\n",
              "                   warm_start=False)"
            ]
          },
          "metadata": {
            "tags": []
          },
          "execution_count": 263
        }
      ]
    },
    {
      "cell_type": "code",
      "metadata": {
        "id": "TcaptqIIHSXg"
      },
      "source": [
        "train['name_words']=train['name_words']/max(train['name_words'])\n",
        "train['goal']=train['goal']/max(train['goal'])\n",
        "train['disable_communication']=train['disable_communication']/max(train['disable_communication'])\n",
        "train['tdiff']=train['tdiff']/max(train['tdiff'])\n",
        "train['year_launched']=train['year_launched']/max(train['year_launched'])\n",
        "train['month_launched']=train['month_launched']/max(train['month_launched'])\n",
        "train['crealaunch']=train['crealaunch']/max(train['crealaunch'])\n",
        "train['statelaunch']=train['statelaunch']/max(train['statelaunch'])\n",
        "train['backers_count']=train['backers_count']/max(train['backers_count'])\n"
      ],
      "execution_count": null,
      "outputs": []
    },
    {
      "cell_type": "code",
      "metadata": {
        "id": "Mj3MoBVD7Lr6",
        "outputId": "64cfcb9e-b4ea-4443-f617-7c1d8d3d8583",
        "colab": {
          "base_uri": "https://localhost:8080/",
          "height": 197
        }
      },
      "source": [
        "train.head()"
      ],
      "execution_count": null,
      "outputs": [
        {
          "output_type": "execute_result",
          "data": {
            "text/html": [
              "<div>\n",
              "<style scoped>\n",
              "    .dataframe tbody tr th:only-of-type {\n",
              "        vertical-align: middle;\n",
              "    }\n",
              "\n",
              "    .dataframe tbody tr th {\n",
              "        vertical-align: top;\n",
              "    }\n",
              "\n",
              "    .dataframe thead th {\n",
              "        text-align: right;\n",
              "    }\n",
              "</style>\n",
              "<table border=\"1\" class=\"dataframe\">\n",
              "  <thead>\n",
              "    <tr style=\"text-align: right;\">\n",
              "      <th></th>\n",
              "      <th>name_words</th>\n",
              "      <th>goal</th>\n",
              "      <th>disable_communication</th>\n",
              "      <th>tdiff</th>\n",
              "      <th>year_launched</th>\n",
              "      <th>month_launched</th>\n",
              "      <th>crealaunch</th>\n",
              "      <th>statelaunch</th>\n",
              "      <th>backers_count</th>\n",
              "      <th>final_status</th>\n",
              "    </tr>\n",
              "  </thead>\n",
              "  <tbody>\n",
              "    <tr>\n",
              "      <th>0</th>\n",
              "      <td>0.111111</td>\n",
              "      <td>2.000000e-07</td>\n",
              "      <td>1.0</td>\n",
              "      <td>0.004656</td>\n",
              "      <td>0.997022</td>\n",
              "      <td>0.333333</td>\n",
              "      <td>0.000000</td>\n",
              "      <td>0.025424</td>\n",
              "      <td>0.000014</td>\n",
              "      <td>1</td>\n",
              "    </tr>\n",
              "    <tr>\n",
              "      <th>1</th>\n",
              "      <td>0.370370</td>\n",
              "      <td>3.000000e-06</td>\n",
              "      <td>1.0</td>\n",
              "      <td>0.008795</td>\n",
              "      <td>0.997022</td>\n",
              "      <td>0.333333</td>\n",
              "      <td>0.000525</td>\n",
              "      <td>0.048023</td>\n",
              "      <td>0.000009</td>\n",
              "      <td>0</td>\n",
              "    </tr>\n",
              "    <tr>\n",
              "      <th>2</th>\n",
              "      <td>0.074074</td>\n",
              "      <td>3.000000e-07</td>\n",
              "      <td>1.0</td>\n",
              "      <td>0.005173</td>\n",
              "      <td>0.997022</td>\n",
              "      <td>0.416667</td>\n",
              "      <td>0.000000</td>\n",
              "      <td>0.028249</td>\n",
              "      <td>0.000000</td>\n",
              "      <td>0</td>\n",
              "    </tr>\n",
              "    <tr>\n",
              "      <th>3</th>\n",
              "      <td>0.222222</td>\n",
              "      <td>5.000000e-06</td>\n",
              "      <td>1.0</td>\n",
              "      <td>0.015520</td>\n",
              "      <td>0.997022</td>\n",
              "      <td>0.333333</td>\n",
              "      <td>0.000000</td>\n",
              "      <td>0.084746</td>\n",
              "      <td>0.000082</td>\n",
              "      <td>1</td>\n",
              "    </tr>\n",
              "    <tr>\n",
              "      <th>4</th>\n",
              "      <td>0.222222</td>\n",
              "      <td>2.000000e-05</td>\n",
              "      <td>1.0</td>\n",
              "      <td>0.015520</td>\n",
              "      <td>0.997022</td>\n",
              "      <td>0.416667</td>\n",
              "      <td>0.000000</td>\n",
              "      <td>0.084746</td>\n",
              "      <td>0.000005</td>\n",
              "      <td>0</td>\n",
              "    </tr>\n",
              "  </tbody>\n",
              "</table>\n",
              "</div>"
            ],
            "text/plain": [
              "   name_words          goal  ...  backers_count  final_status\n",
              "0    0.111111  2.000000e-07  ...       0.000014             1\n",
              "1    0.370370  3.000000e-06  ...       0.000009             0\n",
              "2    0.074074  3.000000e-07  ...       0.000000             0\n",
              "3    0.222222  5.000000e-06  ...       0.000082             1\n",
              "4    0.222222  2.000000e-05  ...       0.000005             0\n",
              "\n",
              "[5 rows x 10 columns]"
            ]
          },
          "metadata": {
            "tags": []
          },
          "execution_count": 215
        }
      ]
    },
    {
      "cell_type": "code",
      "metadata": {
        "id": "lgwKMHmc5I77"
      },
      "source": [
        "X=train.iloc[:,:-1]\n",
        "Y=train.iloc[:,-1]\n",
        "x_train,x_test,y_train,y_test=train_test_split(X,Y,test_size=0.2,random_state=2)"
      ],
      "execution_count": null,
      "outputs": []
    },
    {
      "cell_type": "code",
      "metadata": {
        "id": "JNmZHjW9D_7u",
        "outputId": "5df44ba1-9ba2-4d6c-d970-a8e45ae90f11",
        "colab": {
          "base_uri": "https://localhost:8080/",
          "height": 34
        }
      },
      "source": [
        "logisticRegr.predict(x_test[0:10])"
      ],
      "execution_count": null,
      "outputs": [
        {
          "output_type": "execute_result",
          "data": {
            "text/plain": [
              "array([0, 0, 0, 0, 0, 0, 0, 0, 0, 0])"
            ]
          },
          "metadata": {
            "tags": []
          },
          "execution_count": 264
        }
      ]
    },
    {
      "cell_type": "code",
      "metadata": {
        "id": "HDW-Msc3EA-w",
        "outputId": "99f26f97-ea9c-4c0c-93eb-bd949ed3959e",
        "colab": {
          "base_uri": "https://localhost:8080/",
          "height": 34
        }
      },
      "source": [
        "score=logisticRegr.score(x_test,y_test)\n",
        "print(score)"
      ],
      "execution_count": null,
      "outputs": [
        {
          "output_type": "stream",
          "text": [
            "0.6773954864964854\n"
          ],
          "name": "stdout"
        }
      ]
    },
    {
      "cell_type": "code",
      "metadata": {
        "id": "8m88Uw65G-03",
        "outputId": "d1cdf0b7-4767-4823-f28c-71acb53fc763",
        "colab": {
          "base_uri": "https://localhost:8080/",
          "height": 34
        }
      },
      "source": [
        "from sklearn.ensemble import RandomForestClassifier\n",
        "lf = RandomForestClassifier(n_estimators=300,max_depth=2, random_state=0)\n",
        "clf.fit(x_train,y_train)\n",
        "y_pred=clf.predict(x_test)\n",
        "print(\"Accuracy:\",accuracy_score(y_test,y_pred))"
      ],
      "execution_count": null,
      "outputs": [
        {
          "output_type": "stream",
          "text": [
            "Accuracy: 0.6762856085830559\n"
          ],
          "name": "stdout"
        }
      ]
    },
    {
      "cell_type": "code",
      "metadata": {
        "id": "hPGGVmI_HGr8"
      },
      "source": [
        "from keras.models import Sequential \n",
        "from keras.layers import Dense\n",
        "from keras.layers import Dropout"
      ],
      "execution_count": null,
      "outputs": []
    },
    {
      "cell_type": "code",
      "metadata": {
        "id": "tk3w4uJ2I3pP",
        "outputId": "c515ccf5-3177-4083-ff3d-4dea248da675",
        "colab": {
          "base_uri": "https://localhost:8080/",
          "height": 1000
        }
      },
      "source": [
        "model=Sequential([Dense(128,input_dim=9,activation='relu'),\n",
        "                 Dense(128,activation='relu'),\n",
        "                 Dense(128,activation='relu'),\n",
        "                 Dropout(0.5),\n",
        "                 Dense(128,activation='relu'),\n",
        "                   Dropout(0.5),\n",
        "                  Dense(2,activation='sigmoid')])\n",
        "model.compile(loss='sparse_categorical_crossentropy',optimizer='adam',metrics=['accuracy'])\n",
        "history=model.fit(x_train,y_train,epochs=150, batch_size=64,validation_data=(x_test,y_test))"
      ],
      "execution_count": null,
      "outputs": [
        {
          "output_type": "stream",
          "text": [
            "Epoch 1/150\n",
            "1352/1352 [==============================] - 4s 3ms/step - loss: 0.6242 - accuracy: 0.6811 - val_loss: 0.6204 - val_accuracy: 0.6762\n",
            "Epoch 2/150\n",
            "1352/1352 [==============================] - 4s 3ms/step - loss: 0.6167 - accuracy: 0.6815 - val_loss: 0.6083 - val_accuracy: 0.6825\n",
            "Epoch 3/150\n",
            "1352/1352 [==============================] - 4s 3ms/step - loss: 0.5908 - accuracy: 0.7063 - val_loss: 0.5594 - val_accuracy: 0.7484\n",
            "Epoch 4/150\n",
            "1352/1352 [==============================] - 4s 3ms/step - loss: 0.5240 - accuracy: 0.7541 - val_loss: 0.5609 - val_accuracy: 0.7494\n",
            "Epoch 5/150\n",
            "1352/1352 [==============================] - 4s 3ms/step - loss: 0.4589 - accuracy: 0.7861 - val_loss: 0.4119 - val_accuracy: 0.7901\n",
            "Epoch 6/150\n",
            "1352/1352 [==============================] - 5s 4ms/step - loss: 0.4271 - accuracy: 0.7989 - val_loss: 0.3975 - val_accuracy: 0.7998\n",
            "Epoch 7/150\n",
            "1352/1352 [==============================] - 4s 3ms/step - loss: 0.4224 - accuracy: 0.7997 - val_loss: 0.4558 - val_accuracy: 0.7914\n",
            "Epoch 8/150\n",
            "1352/1352 [==============================] - 4s 3ms/step - loss: 0.4069 - accuracy: 0.8054 - val_loss: 0.3863 - val_accuracy: 0.8286\n",
            "Epoch 9/150\n",
            "1352/1352 [==============================] - 5s 3ms/step - loss: 0.4034 - accuracy: 0.8048 - val_loss: 0.4216 - val_accuracy: 0.7963\n",
            "Epoch 10/150\n",
            "1352/1352 [==============================] - 4s 3ms/step - loss: 0.4068 - accuracy: 0.8077 - val_loss: 0.4159 - val_accuracy: 0.8091\n",
            "Epoch 11/150\n",
            "1352/1352 [==============================] - 4s 3ms/step - loss: 0.3930 - accuracy: 0.8150 - val_loss: 0.3617 - val_accuracy: 0.8354\n",
            "Epoch 12/150\n",
            "1352/1352 [==============================] - 4s 3ms/step - loss: 0.3924 - accuracy: 0.8137 - val_loss: 0.3732 - val_accuracy: 0.8362\n",
            "Epoch 13/150\n",
            "1352/1352 [==============================] - 4s 3ms/step - loss: 0.3883 - accuracy: 0.8159 - val_loss: 0.3966 - val_accuracy: 0.8356\n",
            "Epoch 14/150\n",
            "1352/1352 [==============================] - 4s 3ms/step - loss: 0.3830 - accuracy: 0.8202 - val_loss: 0.3452 - val_accuracy: 0.8374\n",
            "Epoch 15/150\n",
            "1352/1352 [==============================] - 4s 3ms/step - loss: 0.3858 - accuracy: 0.8162 - val_loss: 0.4215 - val_accuracy: 0.7486\n",
            "Epoch 16/150\n",
            "1352/1352 [==============================] - 4s 3ms/step - loss: 0.3803 - accuracy: 0.8189 - val_loss: 0.4194 - val_accuracy: 0.8279\n",
            "Epoch 17/150\n",
            "1352/1352 [==============================] - 4s 3ms/step - loss: 0.3764 - accuracy: 0.8220 - val_loss: 0.3543 - val_accuracy: 0.8154\n",
            "Epoch 18/150\n",
            "1352/1352 [==============================] - 4s 3ms/step - loss: 0.3691 - accuracy: 0.8242 - val_loss: 0.3386 - val_accuracy: 0.8357\n",
            "Epoch 19/150\n",
            "1352/1352 [==============================] - 4s 3ms/step - loss: 0.3781 - accuracy: 0.8196 - val_loss: 0.5199 - val_accuracy: 0.7111\n",
            "Epoch 20/150\n",
            "1352/1352 [==============================] - 4s 3ms/step - loss: 0.3766 - accuracy: 0.8239 - val_loss: 0.3638 - val_accuracy: 0.8433\n",
            "Epoch 21/150\n",
            "1352/1352 [==============================] - 4s 3ms/step - loss: 0.3770 - accuracy: 0.8225 - val_loss: 0.3604 - val_accuracy: 0.8378\n",
            "Epoch 22/150\n",
            "1352/1352 [==============================] - 4s 3ms/step - loss: 0.3732 - accuracy: 0.8228 - val_loss: 0.4300 - val_accuracy: 0.8000\n",
            "Epoch 23/150\n",
            "1352/1352 [==============================] - 4s 3ms/step - loss: 0.3736 - accuracy: 0.8220 - val_loss: 0.3428 - val_accuracy: 0.8424\n",
            "Epoch 24/150\n",
            "1352/1352 [==============================] - 4s 3ms/step - loss: 0.3716 - accuracy: 0.8252 - val_loss: 0.3574 - val_accuracy: 0.8397\n",
            "Epoch 25/150\n",
            "1352/1352 [==============================] - 4s 3ms/step - loss: 0.3674 - accuracy: 0.8262 - val_loss: 0.3476 - val_accuracy: 0.8285\n",
            "Epoch 26/150\n",
            "1352/1352 [==============================] - 4s 3ms/step - loss: 0.3623 - accuracy: 0.8282 - val_loss: 0.3977 - val_accuracy: 0.8201\n",
            "Epoch 27/150\n",
            "1352/1352 [==============================] - 4s 3ms/step - loss: 0.3672 - accuracy: 0.8247 - val_loss: 0.3547 - val_accuracy: 0.8444\n",
            "Epoch 28/150\n",
            "1352/1352 [==============================] - 4s 3ms/step - loss: 0.3691 - accuracy: 0.8250 - val_loss: 0.3352 - val_accuracy: 0.8385\n",
            "Epoch 29/150\n",
            "1352/1352 [==============================] - 4s 3ms/step - loss: 0.3601 - accuracy: 0.8302 - val_loss: 0.3540 - val_accuracy: 0.8398\n",
            "Epoch 30/150\n",
            "1352/1352 [==============================] - 4s 3ms/step - loss: 0.3628 - accuracy: 0.8277 - val_loss: 0.3837 - val_accuracy: 0.8412\n",
            "Epoch 31/150\n",
            "1352/1352 [==============================] - 5s 3ms/step - loss: 0.3583 - accuracy: 0.8310 - val_loss: 0.4407 - val_accuracy: 0.8157\n",
            "Epoch 32/150\n",
            "1352/1352 [==============================] - 4s 3ms/step - loss: 0.3604 - accuracy: 0.8294 - val_loss: 0.3324 - val_accuracy: 0.8359\n",
            "Epoch 33/150\n",
            "1352/1352 [==============================] - 4s 3ms/step - loss: 0.3625 - accuracy: 0.8286 - val_loss: 0.3333 - val_accuracy: 0.8427\n",
            "Epoch 34/150\n",
            "1352/1352 [==============================] - 4s 3ms/step - loss: 0.3616 - accuracy: 0.8282 - val_loss: 0.3309 - val_accuracy: 0.8416\n",
            "Epoch 35/150\n",
            "1352/1352 [==============================] - 4s 3ms/step - loss: 0.3613 - accuracy: 0.8288 - val_loss: 0.3456 - val_accuracy: 0.8333\n",
            "Epoch 36/150\n",
            "1352/1352 [==============================] - 4s 3ms/step - loss: 0.3611 - accuracy: 0.8304 - val_loss: 0.3339 - val_accuracy: 0.8416\n",
            "Epoch 37/150\n",
            "1352/1352 [==============================] - 4s 3ms/step - loss: 0.3560 - accuracy: 0.8308 - val_loss: 0.3767 - val_accuracy: 0.8037\n",
            "Epoch 38/150\n",
            "1352/1352 [==============================] - 4s 3ms/step - loss: 0.3558 - accuracy: 0.8318 - val_loss: 0.3221 - val_accuracy: 0.8438\n",
            "Epoch 39/150\n",
            "1352/1352 [==============================] - 4s 3ms/step - loss: 0.3568 - accuracy: 0.8300 - val_loss: 0.3509 - val_accuracy: 0.8198\n",
            "Epoch 40/150\n",
            "1352/1352 [==============================] - 4s 3ms/step - loss: 0.3577 - accuracy: 0.8295 - val_loss: 0.3261 - val_accuracy: 0.8488\n",
            "Epoch 41/150\n",
            "1352/1352 [==============================] - 4s 3ms/step - loss: 0.3540 - accuracy: 0.8322 - val_loss: 0.3396 - val_accuracy: 0.8473\n",
            "Epoch 42/150\n",
            "1352/1352 [==============================] - 4s 3ms/step - loss: 0.3515 - accuracy: 0.8335 - val_loss: 0.3338 - val_accuracy: 0.8460\n",
            "Epoch 43/150\n",
            "1352/1352 [==============================] - 4s 3ms/step - loss: 0.3568 - accuracy: 0.8298 - val_loss: 0.3377 - val_accuracy: 0.8294\n",
            "Epoch 44/150\n",
            "1352/1352 [==============================] - 4s 3ms/step - loss: 0.3491 - accuracy: 0.8352 - val_loss: 0.3538 - val_accuracy: 0.8407\n",
            "Epoch 45/150\n",
            "1352/1352 [==============================] - 4s 3ms/step - loss: 0.3554 - accuracy: 0.8323 - val_loss: 0.3328 - val_accuracy: 0.8390\n",
            "Epoch 46/150\n",
            "1352/1352 [==============================] - 4s 3ms/step - loss: 0.3490 - accuracy: 0.8341 - val_loss: 0.3221 - val_accuracy: 0.8423\n",
            "Epoch 47/150\n",
            "1352/1352 [==============================] - 4s 3ms/step - loss: 0.3541 - accuracy: 0.8316 - val_loss: 0.3196 - val_accuracy: 0.8442\n",
            "Epoch 48/150\n",
            "1352/1352 [==============================] - 4s 3ms/step - loss: 0.3521 - accuracy: 0.8319 - val_loss: 0.3238 - val_accuracy: 0.8454\n",
            "Epoch 49/150\n",
            "1352/1352 [==============================] - 4s 3ms/step - loss: 0.3486 - accuracy: 0.8335 - val_loss: 0.3662 - val_accuracy: 0.8273\n",
            "Epoch 50/150\n",
            "1352/1352 [==============================] - 4s 3ms/step - loss: 0.3421 - accuracy: 0.8372 - val_loss: 0.3546 - val_accuracy: 0.8326\n",
            "Epoch 51/150\n",
            "1352/1352 [==============================] - 4s 3ms/step - loss: 0.3419 - accuracy: 0.8382 - val_loss: 0.3632 - val_accuracy: 0.8240\n",
            "Epoch 52/150\n",
            "1352/1352 [==============================] - 4s 3ms/step - loss: 0.3510 - accuracy: 0.8343 - val_loss: 0.3220 - val_accuracy: 0.8466\n",
            "Epoch 53/150\n",
            "1352/1352 [==============================] - 4s 3ms/step - loss: 0.3532 - accuracy: 0.8345 - val_loss: 0.3238 - val_accuracy: 0.8461\n",
            "Epoch 54/150\n",
            "1352/1352 [==============================] - 4s 3ms/step - loss: 0.3447 - accuracy: 0.8364 - val_loss: 0.3145 - val_accuracy: 0.8510\n",
            "Epoch 55/150\n",
            "1352/1352 [==============================] - 4s 3ms/step - loss: 0.3456 - accuracy: 0.8350 - val_loss: 0.3383 - val_accuracy: 0.8365\n",
            "Epoch 56/150\n",
            "1352/1352 [==============================] - 4s 3ms/step - loss: 0.3464 - accuracy: 0.8352 - val_loss: 0.3548 - val_accuracy: 0.8350\n",
            "Epoch 57/150\n",
            "1352/1352 [==============================] - 4s 3ms/step - loss: 0.3413 - accuracy: 0.8381 - val_loss: 0.3166 - val_accuracy: 0.8477\n",
            "Epoch 58/150\n",
            "1352/1352 [==============================] - 4s 3ms/step - loss: 0.3442 - accuracy: 0.8357 - val_loss: 0.4518 - val_accuracy: 0.7221\n",
            "Epoch 59/150\n",
            "1352/1352 [==============================] - 4s 3ms/step - loss: 0.3439 - accuracy: 0.8362 - val_loss: 0.3371 - val_accuracy: 0.8467\n",
            "Epoch 60/150\n",
            "1352/1352 [==============================] - 4s 3ms/step - loss: 0.3418 - accuracy: 0.8377 - val_loss: 0.3189 - val_accuracy: 0.8484\n",
            "Epoch 61/150\n",
            "1352/1352 [==============================] - 4s 3ms/step - loss: 0.3442 - accuracy: 0.8357 - val_loss: 0.3788 - val_accuracy: 0.8239\n",
            "Epoch 62/150\n",
            "1352/1352 [==============================] - 4s 3ms/step - loss: 0.3404 - accuracy: 0.8387 - val_loss: 0.3754 - val_accuracy: 0.8435\n",
            "Epoch 63/150\n",
            "1352/1352 [==============================] - 4s 3ms/step - loss: 0.3364 - accuracy: 0.8398 - val_loss: 0.5042 - val_accuracy: 0.8146\n",
            "Epoch 64/150\n",
            "1352/1352 [==============================] - 4s 3ms/step - loss: 0.3412 - accuracy: 0.8354 - val_loss: 0.3927 - val_accuracy: 0.8238\n",
            "Epoch 65/150\n",
            "1352/1352 [==============================] - 4s 3ms/step - loss: 0.3345 - accuracy: 0.8396 - val_loss: 0.3192 - val_accuracy: 0.8518\n",
            "Epoch 66/150\n",
            "1352/1352 [==============================] - 4s 3ms/step - loss: 0.3370 - accuracy: 0.8400 - val_loss: 0.3429 - val_accuracy: 0.8393\n",
            "Epoch 67/150\n",
            "1352/1352 [==============================] - 4s 3ms/step - loss: 0.3396 - accuracy: 0.8382 - val_loss: 0.3678 - val_accuracy: 0.8221\n",
            "Epoch 68/150\n",
            "1352/1352 [==============================] - 4s 3ms/step - loss: 0.3367 - accuracy: 0.8396 - val_loss: 0.3230 - val_accuracy: 0.8392\n",
            "Epoch 69/150\n",
            "1352/1352 [==============================] - 4s 3ms/step - loss: 0.3358 - accuracy: 0.8398 - val_loss: 0.3189 - val_accuracy: 0.8447\n",
            "Epoch 70/150\n",
            "1352/1352 [==============================] - 4s 3ms/step - loss: 0.3379 - accuracy: 0.8394 - val_loss: 0.3075 - val_accuracy: 0.8552\n",
            "Epoch 71/150\n",
            "1352/1352 [==============================] - 4s 3ms/step - loss: 0.3323 - accuracy: 0.8421 - val_loss: 0.3100 - val_accuracy: 0.8474\n",
            "Epoch 72/150\n",
            "1352/1352 [==============================] - 4s 3ms/step - loss: 0.3338 - accuracy: 0.8402 - val_loss: 0.3048 - val_accuracy: 0.8538\n",
            "Epoch 73/150\n",
            "1352/1352 [==============================] - 4s 3ms/step - loss: 0.3342 - accuracy: 0.8410 - val_loss: 0.3015 - val_accuracy: 0.8546\n",
            "Epoch 74/150\n",
            "1352/1352 [==============================] - 4s 3ms/step - loss: 0.3384 - accuracy: 0.8390 - val_loss: 0.3384 - val_accuracy: 0.8535\n",
            "Epoch 75/150\n",
            "1352/1352 [==============================] - 4s 3ms/step - loss: 0.3319 - accuracy: 0.8439 - val_loss: 0.3167 - val_accuracy: 0.8584\n",
            "Epoch 76/150\n",
            "1352/1352 [==============================] - 4s 3ms/step - loss: 0.3305 - accuracy: 0.8428 - val_loss: 0.3023 - val_accuracy: 0.8589\n",
            "Epoch 77/150\n",
            "1352/1352 [==============================] - 4s 3ms/step - loss: 0.3288 - accuracy: 0.8441 - val_loss: 0.3072 - val_accuracy: 0.8473\n",
            "Epoch 78/150\n",
            "1352/1352 [==============================] - 4s 3ms/step - loss: 0.3292 - accuracy: 0.8427 - val_loss: 0.3450 - val_accuracy: 0.8262\n",
            "Epoch 79/150\n",
            "1352/1352 [==============================] - 4s 3ms/step - loss: 0.3274 - accuracy: 0.8445 - val_loss: 0.3243 - val_accuracy: 0.8582\n",
            "Epoch 80/150\n",
            "1352/1352 [==============================] - 4s 3ms/step - loss: 0.3282 - accuracy: 0.8431 - val_loss: 0.4561 - val_accuracy: 0.8118\n",
            "Epoch 81/150\n",
            "1352/1352 [==============================] - 4s 3ms/step - loss: 0.3306 - accuracy: 0.8424 - val_loss: 0.3026 - val_accuracy: 0.8507\n",
            "Epoch 82/150\n",
            "1352/1352 [==============================] - 4s 3ms/step - loss: 0.3284 - accuracy: 0.8432 - val_loss: 0.2996 - val_accuracy: 0.8531\n",
            "Epoch 83/150\n",
            "1352/1352 [==============================] - 4s 3ms/step - loss: 0.3276 - accuracy: 0.8441 - val_loss: 0.3309 - val_accuracy: 0.8421\n",
            "Epoch 84/150\n",
            "1352/1352 [==============================] - 4s 3ms/step - loss: 0.3245 - accuracy: 0.8456 - val_loss: 0.2951 - val_accuracy: 0.8570\n",
            "Epoch 85/150\n",
            "1352/1352 [==============================] - 4s 3ms/step - loss: 0.3217 - accuracy: 0.8468 - val_loss: 0.3302 - val_accuracy: 0.8402\n",
            "Epoch 86/150\n",
            "1352/1352 [==============================] - 4s 3ms/step - loss: 0.3279 - accuracy: 0.8455 - val_loss: 0.3071 - val_accuracy: 0.8606\n",
            "Epoch 87/150\n",
            "1352/1352 [==============================] - 4s 3ms/step - loss: 0.3281 - accuracy: 0.8438 - val_loss: 0.4439 - val_accuracy: 0.8261\n",
            "Epoch 88/150\n",
            "1352/1352 [==============================] - 5s 4ms/step - loss: 0.3249 - accuracy: 0.8474 - val_loss: 0.3077 - val_accuracy: 0.8596\n",
            "Epoch 89/150\n",
            "1352/1352 [==============================] - 5s 4ms/step - loss: 0.3273 - accuracy: 0.8438 - val_loss: 0.3210 - val_accuracy: 0.8389\n",
            "Epoch 90/150\n",
            "1352/1352 [==============================] - 4s 3ms/step - loss: 0.3232 - accuracy: 0.8468 - val_loss: 0.3662 - val_accuracy: 0.8077\n",
            "Epoch 91/150\n",
            "1352/1352 [==============================] - 5s 3ms/step - loss: 0.3244 - accuracy: 0.8451 - val_loss: 0.3205 - val_accuracy: 0.8435\n",
            "Epoch 92/150\n",
            "1352/1352 [==============================] - 4s 3ms/step - loss: 0.3249 - accuracy: 0.8462 - val_loss: 0.2990 - val_accuracy: 0.8542\n",
            "Epoch 93/150\n",
            "1352/1352 [==============================] - 4s 3ms/step - loss: 0.3172 - accuracy: 0.8503 - val_loss: 0.2914 - val_accuracy: 0.8607\n",
            "Epoch 94/150\n",
            "1352/1352 [==============================] - 4s 3ms/step - loss: 0.3216 - accuracy: 0.8473 - val_loss: 0.3151 - val_accuracy: 0.8454\n",
            "Epoch 95/150\n",
            "1352/1352 [==============================] - 4s 3ms/step - loss: 0.3194 - accuracy: 0.8479 - val_loss: 0.3292 - val_accuracy: 0.8298\n",
            "Epoch 96/150\n",
            "1352/1352 [==============================] - 4s 3ms/step - loss: 0.3207 - accuracy: 0.8477 - val_loss: 0.3088 - val_accuracy: 0.8474\n",
            "Epoch 97/150\n",
            "1352/1352 [==============================] - 4s 3ms/step - loss: 0.3254 - accuracy: 0.8440 - val_loss: 0.4552 - val_accuracy: 0.7580\n",
            "Epoch 98/150\n",
            "1352/1352 [==============================] - 4s 3ms/step - loss: 0.3194 - accuracy: 0.8480 - val_loss: 0.3239 - val_accuracy: 0.8590\n",
            "Epoch 99/150\n",
            "1352/1352 [==============================] - 4s 3ms/step - loss: 0.3184 - accuracy: 0.8482 - val_loss: 0.3003 - val_accuracy: 0.8612\n",
            "Epoch 100/150\n",
            "1352/1352 [==============================] - 4s 3ms/step - loss: 0.3211 - accuracy: 0.8467 - val_loss: 0.2968 - val_accuracy: 0.8546\n",
            "Epoch 101/150\n",
            "1352/1352 [==============================] - 4s 3ms/step - loss: 0.3192 - accuracy: 0.8483 - val_loss: 0.3579 - val_accuracy: 0.8359\n",
            "Epoch 102/150\n",
            "1352/1352 [==============================] - 4s 3ms/step - loss: 0.3156 - accuracy: 0.8497 - val_loss: 0.4218 - val_accuracy: 0.7672\n",
            "Epoch 103/150\n",
            "1352/1352 [==============================] - 4s 3ms/step - loss: 0.3226 - accuracy: 0.8467 - val_loss: 0.2927 - val_accuracy: 0.8617\n",
            "Epoch 104/150\n",
            "1352/1352 [==============================] - 4s 3ms/step - loss: 0.3137 - accuracy: 0.8510 - val_loss: 0.2834 - val_accuracy: 0.8644\n",
            "Epoch 105/150\n",
            "1352/1352 [==============================] - 4s 3ms/step - loss: 0.3170 - accuracy: 0.8489 - val_loss: 0.3618 - val_accuracy: 0.8612\n",
            "Epoch 106/150\n",
            "1352/1352 [==============================] - 4s 3ms/step - loss: 0.3166 - accuracy: 0.8494 - val_loss: 0.3660 - val_accuracy: 0.8236\n",
            "Epoch 107/150\n",
            "1352/1352 [==============================] - 4s 3ms/step - loss: 0.3163 - accuracy: 0.8500 - val_loss: 0.3004 - val_accuracy: 0.8510\n",
            "Epoch 108/150\n",
            "1352/1352 [==============================] - 5s 3ms/step - loss: 0.3182 - accuracy: 0.8495 - val_loss: 0.2873 - val_accuracy: 0.8629\n",
            "Epoch 109/150\n",
            "1352/1352 [==============================] - 4s 3ms/step - loss: 0.3179 - accuracy: 0.8479 - val_loss: 0.2988 - val_accuracy: 0.8615\n",
            "Epoch 110/150\n",
            "1352/1352 [==============================] - 4s 3ms/step - loss: 0.3201 - accuracy: 0.8482 - val_loss: 0.2941 - val_accuracy: 0.8602\n",
            "Epoch 111/150\n",
            "1352/1352 [==============================] - 4s 3ms/step - loss: 0.3162 - accuracy: 0.8498 - val_loss: 0.2890 - val_accuracy: 0.8625\n",
            "Epoch 112/150\n",
            "1352/1352 [==============================] - 4s 3ms/step - loss: 0.3199 - accuracy: 0.8475 - val_loss: 0.3408 - val_accuracy: 0.8181\n",
            "Epoch 113/150\n",
            "1352/1352 [==============================] - 4s 3ms/step - loss: 0.3207 - accuracy: 0.8470 - val_loss: 0.3318 - val_accuracy: 0.8406\n",
            "Epoch 114/150\n",
            "1352/1352 [==============================] - 4s 3ms/step - loss: 0.3163 - accuracy: 0.8490 - val_loss: 0.4125 - val_accuracy: 0.7932\n",
            "Epoch 115/150\n",
            "1352/1352 [==============================] - 4s 3ms/step - loss: 0.3153 - accuracy: 0.8493 - val_loss: 0.2961 - val_accuracy: 0.8647\n",
            "Epoch 116/150\n",
            "1352/1352 [==============================] - 4s 3ms/step - loss: 0.3154 - accuracy: 0.8486 - val_loss: 0.3359 - val_accuracy: 0.8360\n",
            "Epoch 117/150\n",
            "1352/1352 [==============================] - 4s 3ms/step - loss: 0.3145 - accuracy: 0.8501 - val_loss: 0.2893 - val_accuracy: 0.8659\n",
            "Epoch 118/150\n",
            "1352/1352 [==============================] - 4s 3ms/step - loss: 0.3172 - accuracy: 0.8485 - val_loss: 0.3212 - val_accuracy: 0.8386\n",
            "Epoch 119/150\n",
            "1352/1352 [==============================] - 4s 3ms/step - loss: 0.3128 - accuracy: 0.8513 - val_loss: 0.2962 - val_accuracy: 0.8539\n",
            "Epoch 120/150\n",
            "1352/1352 [==============================] - 4s 3ms/step - loss: 0.3143 - accuracy: 0.8510 - val_loss: 0.4130 - val_accuracy: 0.7999\n",
            "Epoch 121/150\n",
            "1352/1352 [==============================] - 4s 3ms/step - loss: 0.3128 - accuracy: 0.8521 - val_loss: 0.4127 - val_accuracy: 0.8081\n",
            "Epoch 122/150\n",
            "1352/1352 [==============================] - 4s 3ms/step - loss: 0.3156 - accuracy: 0.8491 - val_loss: 0.3083 - val_accuracy: 0.8587\n",
            "Epoch 123/150\n",
            "1352/1352 [==============================] - 4s 3ms/step - loss: 0.3087 - accuracy: 0.8536 - val_loss: 0.3048 - val_accuracy: 0.8621\n",
            "Epoch 124/150\n",
            "1352/1352 [==============================] - 4s 3ms/step - loss: 0.3178 - accuracy: 0.8482 - val_loss: 0.3331 - val_accuracy: 0.8485\n",
            "Epoch 125/150\n",
            "1352/1352 [==============================] - 4s 3ms/step - loss: 0.3128 - accuracy: 0.8519 - val_loss: 0.2904 - val_accuracy: 0.8580\n",
            "Epoch 126/150\n",
            "1352/1352 [==============================] - 4s 3ms/step - loss: 0.3120 - accuracy: 0.8524 - val_loss: 0.3088 - val_accuracy: 0.8448\n",
            "Epoch 127/150\n",
            "1352/1352 [==============================] - 4s 3ms/step - loss: 0.3123 - accuracy: 0.8521 - val_loss: 0.2965 - val_accuracy: 0.8525\n",
            "Epoch 128/150\n",
            "1352/1352 [==============================] - 4s 3ms/step - loss: 0.3157 - accuracy: 0.8491 - val_loss: 0.4103 - val_accuracy: 0.8347\n",
            "Epoch 129/150\n",
            "1352/1352 [==============================] - 4s 3ms/step - loss: 0.3191 - accuracy: 0.8477 - val_loss: 0.3351 - val_accuracy: 0.8529\n",
            "Epoch 130/150\n",
            "1352/1352 [==============================] - 4s 3ms/step - loss: 0.3176 - accuracy: 0.8500 - val_loss: 0.2841 - val_accuracy: 0.8625\n",
            "Epoch 131/150\n",
            "1352/1352 [==============================] - 4s 3ms/step - loss: 0.3115 - accuracy: 0.8522 - val_loss: 0.3126 - val_accuracy: 0.8475\n",
            "Epoch 132/150\n",
            "1352/1352 [==============================] - 4s 3ms/step - loss: 0.3095 - accuracy: 0.8525 - val_loss: 0.2860 - val_accuracy: 0.8609\n",
            "Epoch 133/150\n",
            "1352/1352 [==============================] - 4s 3ms/step - loss: 0.3118 - accuracy: 0.8512 - val_loss: 0.3548 - val_accuracy: 0.8391\n",
            "Epoch 134/150\n",
            "1352/1352 [==============================] - 4s 3ms/step - loss: 0.3099 - accuracy: 0.8532 - val_loss: 0.2903 - val_accuracy: 0.8566\n",
            "Epoch 135/150\n",
            "1352/1352 [==============================] - 4s 3ms/step - loss: 0.3086 - accuracy: 0.8533 - val_loss: 0.2849 - val_accuracy: 0.8633\n",
            "Epoch 136/150\n",
            "1352/1352 [==============================] - 4s 3ms/step - loss: 0.3106 - accuracy: 0.8517 - val_loss: 0.3157 - val_accuracy: 0.8393\n",
            "Epoch 137/150\n",
            "1352/1352 [==============================] - 4s 3ms/step - loss: 0.3100 - accuracy: 0.8534 - val_loss: 0.3110 - val_accuracy: 0.8483\n",
            "Epoch 138/150\n",
            "1352/1352 [==============================] - 4s 3ms/step - loss: 0.3070 - accuracy: 0.8546 - val_loss: 0.2861 - val_accuracy: 0.8628\n",
            "Epoch 139/150\n",
            "1352/1352 [==============================] - 4s 3ms/step - loss: 0.3089 - accuracy: 0.8528 - val_loss: 0.3670 - val_accuracy: 0.8346\n",
            "Epoch 140/150\n",
            "1352/1352 [==============================] - 4s 3ms/step - loss: 0.3108 - accuracy: 0.8520 - val_loss: 0.2845 - val_accuracy: 0.8626\n",
            "Epoch 141/150\n",
            "1352/1352 [==============================] - 4s 3ms/step - loss: 0.3091 - accuracy: 0.8536 - val_loss: 0.3841 - val_accuracy: 0.8640\n",
            "Epoch 142/150\n",
            "1352/1352 [==============================] - 4s 3ms/step - loss: 0.3125 - accuracy: 0.8517 - val_loss: 0.2969 - val_accuracy: 0.8604\n",
            "Epoch 143/150\n",
            "1352/1352 [==============================] - 4s 3ms/step - loss: 0.3076 - accuracy: 0.8536 - val_loss: 0.3040 - val_accuracy: 0.8551\n",
            "Epoch 144/150\n",
            "1352/1352 [==============================] - 4s 3ms/step - loss: 0.3082 - accuracy: 0.8548 - val_loss: 0.2871 - val_accuracy: 0.8587\n",
            "Epoch 145/150\n",
            "1352/1352 [==============================] - 4s 3ms/step - loss: 0.3057 - accuracy: 0.8546 - val_loss: 0.2928 - val_accuracy: 0.8589\n",
            "Epoch 146/150\n",
            "1352/1352 [==============================] - 4s 3ms/step - loss: 0.3079 - accuracy: 0.8532 - val_loss: 0.3430 - val_accuracy: 0.8587\n",
            "Epoch 147/150\n",
            "1352/1352 [==============================] - 4s 3ms/step - loss: 0.3120 - accuracy: 0.8512 - val_loss: 0.2938 - val_accuracy: 0.8614\n",
            "Epoch 148/150\n",
            "1352/1352 [==============================] - 4s 3ms/step - loss: 0.3112 - accuracy: 0.8507 - val_loss: 0.3001 - val_accuracy: 0.8600\n",
            "Epoch 149/150\n",
            "1352/1352 [==============================] - 4s 3ms/step - loss: 0.3097 - accuracy: 0.8527 - val_loss: 0.3206 - val_accuracy: 0.8513\n",
            "Epoch 150/150\n",
            "1352/1352 [==============================] - 4s 3ms/step - loss: 0.3085 - accuracy: 0.8541 - val_loss: 0.2846 - val_accuracy: 0.8589\n"
          ],
          "name": "stdout"
        }
      ]
    },
    {
      "cell_type": "code",
      "metadata": {
        "id": "nayMyx6eJ109",
        "outputId": "b50a1ea4-d544-4b62-9e4d-f369277a4315",
        "colab": {
          "base_uri": "https://localhost:8080/",
          "height": 34
        }
      },
      "source": [
        "x_train.shape"
      ],
      "execution_count": null,
      "outputs": [
        {
          "output_type": "execute_result",
          "data": {
            "text/plain": [
              "(86495, 9)"
            ]
          },
          "metadata": {
            "tags": []
          },
          "execution_count": 260
        }
      ]
    },
    {
      "cell_type": "code",
      "metadata": {
        "id": "9R9r3BhbI8rm",
        "outputId": "479a81d3-b8f1-4432-9912-c63b0b960d89",
        "colab": {
          "base_uri": "https://localhost:8080/",
          "height": 34
        }
      },
      "source": [
        "y_train.shape"
      ],
      "execution_count": null,
      "outputs": [
        {
          "output_type": "execute_result",
          "data": {
            "text/plain": [
              "(86495,)"
            ]
          },
          "metadata": {
            "tags": []
          },
          "execution_count": 237
        }
      ]
    },
    {
      "cell_type": "code",
      "metadata": {
        "id": "UGciraFMJYvh",
        "outputId": "d32cff2a-e709-4425-f78e-b48a1279eab3",
        "colab": {
          "base_uri": "https://localhost:8080/",
          "height": 294
        }
      },
      "source": [
        "plt.plot(history.history['accuracy'])\n",
        "plt.plot(history.history['val_loss'])\n",
        "plt.title('model')\n",
        "plt.ylabel('accuracy')\n",
        "plt.xlabel('epochs')\n",
        "plt.legend(['train','val loss'],loc='upper left')\n",
        "plt.show()"
      ],
      "execution_count": null,
      "outputs": [
        {
          "output_type": "display_data",
          "data": {
            "image/png": "[encoded data removed]",
            "text/plain": [
              "<Figure size 432x288 with 1 Axes>"
            ]
          },
          "metadata": {
            "tags": [],
            "needs_background": "light"
          }
        }
      ]
    },
    {
      "cell_type": "code",
      "metadata": {
        "id": "gGIJVIu0Vevb"
      },
      "source": [
        ""
      ],
      "execution_count": null,
      "outputs": []
    }
  ]
}