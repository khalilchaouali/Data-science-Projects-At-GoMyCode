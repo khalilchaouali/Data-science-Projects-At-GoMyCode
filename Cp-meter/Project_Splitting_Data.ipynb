{
 "cells": [
  {
   "cell_type": "markdown",
   "metadata": {},
   "source": [
    "## Data splitting into Train/Validation/Test datasets"
   ]
  },
  {
   "cell_type": "markdown",
   "metadata": {},
   "source": [
    "### Loading our clean data"
   ]
  },
  {
   "cell_type": "code",
   "execution_count": 5,
   "metadata": {},
   "outputs": [
    {
     "data": {
      "text/html": [
       "<div>\n",
       "<style scoped>\n",
       "    .dataframe tbody tr th:only-of-type {\n",
       "        vertical-align: middle;\n",
       "    }\n",
       "\n",
       "    .dataframe tbody tr th {\n",
       "        vertical-align: top;\n",
       "    }\n",
       "\n",
       "    .dataframe thead th {\n",
       "        text-align: right;\n",
       "    }\n",
       "</style>\n",
       "<table border=\"1\" class=\"dataframe\">\n",
       "  <thead>\n",
       "    <tr style=\"text-align: right;\">\n",
       "      <th></th>\n",
       "      <th>Formula</th>\n",
       "      <th>Temperature</th>\n",
       "      <th>Heat Capacity</th>\n",
       "    </tr>\n",
       "  </thead>\n",
       "  <tbody>\n",
       "    <tr>\n",
       "      <th>0</th>\n",
       "      <td>B2O3</td>\n",
       "      <td>1400.0</td>\n",
       "      <td>134.3060</td>\n",
       "    </tr>\n",
       "    <tr>\n",
       "      <th>1</th>\n",
       "      <td>B2O3</td>\n",
       "      <td>1300.0</td>\n",
       "      <td>131.2940</td>\n",
       "    </tr>\n",
       "    <tr>\n",
       "      <th>2</th>\n",
       "      <td>B2O3</td>\n",
       "      <td>1200.0</td>\n",
       "      <td>128.0720</td>\n",
       "    </tr>\n",
       "    <tr>\n",
       "      <th>3</th>\n",
       "      <td>B2O3</td>\n",
       "      <td>1100.0</td>\n",
       "      <td>124.5160</td>\n",
       "    </tr>\n",
       "    <tr>\n",
       "      <th>4</th>\n",
       "      <td>B2O3</td>\n",
       "      <td>1000.0</td>\n",
       "      <td>120.6250</td>\n",
       "    </tr>\n",
       "    <tr>\n",
       "      <th>...</th>\n",
       "      <td>...</td>\n",
       "      <td>...</td>\n",
       "      <td>...</td>\n",
       "    </tr>\n",
       "    <tr>\n",
       "      <th>4568</th>\n",
       "      <td>Zr1</td>\n",
       "      <td>450.0</td>\n",
       "      <td>26.2460</td>\n",
       "    </tr>\n",
       "    <tr>\n",
       "      <th>4569</th>\n",
       "      <td>Zr1</td>\n",
       "      <td>400.0</td>\n",
       "      <td>25.9350</td>\n",
       "    </tr>\n",
       "    <tr>\n",
       "      <th>4570</th>\n",
       "      <td>Zr1</td>\n",
       "      <td>350.0</td>\n",
       "      <td>25.6060</td>\n",
       "    </tr>\n",
       "    <tr>\n",
       "      <th>4571</th>\n",
       "      <td>Zr1</td>\n",
       "      <td>300.0</td>\n",
       "      <td>89.4475</td>\n",
       "    </tr>\n",
       "    <tr>\n",
       "      <th>4572</th>\n",
       "      <td>Zr1</td>\n",
       "      <td>298.0</td>\n",
       "      <td>25.2020</td>\n",
       "    </tr>\n",
       "  </tbody>\n",
       "</table>\n",
       "<p>4573 rows × 3 columns</p>\n",
       "</div>"
      ],
      "text/plain": [
       "     Formula  Temperature  Heat Capacity\n",
       "0       B2O3       1400.0       134.3060\n",
       "1       B2O3       1300.0       131.2940\n",
       "2       B2O3       1200.0       128.0720\n",
       "3       B2O3       1100.0       124.5160\n",
       "4       B2O3       1000.0       120.6250\n",
       "...      ...          ...            ...\n",
       "4568     Zr1        450.0        26.2460\n",
       "4569     Zr1        400.0        25.9350\n",
       "4570     Zr1        350.0        25.6060\n",
       "4571     Zr1        300.0        89.4475\n",
       "4572     Zr1        298.0        25.2020\n",
       "\n",
       "[4573 rows x 3 columns]"
      ]
     },
     "execution_count": 5,
     "metadata": {},
     "output_type": "execute_result"
    }
   ],
   "source": [
    "import pandas as pd \n",
    "import numpy as np\n",
    "path = r'C:\\Users\\HP\\Documents\\Cleaned Cp\\cp_data_cleaned.csv'\n",
    "data = pd.read_csv(path)\n",
    "data"
   ]
  },
  {
   "cell_type": "markdown",
   "metadata": {},
   "source": [
    "### Separating our variables into Inputs/Target"
   ]
  },
  {
   "cell_type": "code",
   "execution_count": 9,
   "metadata": {},
   "outputs": [],
   "source": [
    "X = data[['Formula','Temperature']]\n",
    "Y = data['Heat Capacity']"
   ]
  },
  {
   "cell_type": "markdown",
   "metadata": {},
   "source": [
    "### Splitting Data"
   ]
  },
  {
   "cell_type": "code",
   "execution_count": 10,
   "metadata": {},
   "outputs": [
    {
     "name": "stdout",
     "output_type": "stream",
     "text": [
      "(3658, 2)\n",
      "(915, 2)\n"
     ]
    }
   ],
   "source": [
    "from sklearn.model_selection import train_test_split\n",
    "X_train, X_test, Y_train, Y_test = train_test_split( X, Y, test_size=0.2, random_state= 42)\n",
    "\n",
    "print(X_train.shape)\n",
    "print(X_test.shape)\n",
    "# Remember we have only 245 distinct formulae so we have to ensure that each formulae may exist in only one\n",
    "# type of dataset, not in multiples ones.\n"
   ]
  },
  {
   "cell_type": "code",
   "execution_count": 12,
   "metadata": {},
   "outputs": [
    {
     "name": "stdout",
     "output_type": "stream",
     "text": [
      "There are in total 3658 rows in the X_train DataFrame.\n",
      "But there are only 244 unique Formulae!\n",
      "\n",
      "Unique Formulae and their number of occurances in the X_train DataFrame:\n",
      "W1         38\n",
      "N1Ti1      35\n",
      "B1Ti1      33\n",
      "N1Zr1      33\n",
      "O2Zr1      29\n",
      "           ..\n",
      "I4Mo1       3\n",
      "Be1H2O2     3\n",
      "I4Ti1       3\n",
      "N2O4        2\n",
      "I4Si1       2\n",
      "Name: Formula, Length: 244, dtype: int64 \n",
      "\n",
      "Unique Formulae and their number of occurances in the X_test DataFrame:\n",
      "W1          11\n",
      "Be2O4Si1    10\n",
      "N1Ti1        9\n",
      "K2O3Si1      9\n",
      "O3Ti2        9\n",
      "            ..\n",
      "Li2O4S1      1\n",
      "O1Pb1        1\n",
      "Cl2Fe1       1\n",
      "H2O2Sr1      1\n",
      "N5P3         1\n",
      "Name: Formula, Length: 234, dtype: int64\n"
     ]
    }
   ],
   "source": [
    "num_rows = len(X_train)\n",
    "print(f'There are in total {num_rows} rows in the X_train DataFrame.')\n",
    "\n",
    "num_unique_formulae = len(X_train['Formula'].unique())\n",
    "print(f'But there are only {num_unique_formulae} unique Formulae!\\n')\n",
    "\n",
    "print('Unique Formulae and their number of occurances in the X_train DataFrame:')\n",
    "print(X_train['Formula'].value_counts(), '\\n')\n",
    "print('Unique Formulae and their number of occurances in the X_test DataFrame:')\n",
    "print(X_test['Formula'].value_counts())"
   ]
  },
  {
   "cell_type": "markdown",
   "metadata": {},
   "source": [
    "we see that some formulae appear in both the training and testing datasets which is not good because now we have instances of the same chemical compound appearing in both. Which means the model can cheat and in essence just memorize the training data, and during testing, look up the nearby values present in the training data!\n",
    "### to fix this, we will first have to group the data by the chemical formula and then do the splitting accordingly."
   ]
  },
  {
   "cell_type": "code",
   "execution_count": 16,
   "metadata": {},
   "outputs": [
    {
     "name": "stdout",
     "output_type": "stream",
     "text": [
      "There exist 244 unique formulae in the dataset: \n",
      "\n",
      "['B2O3' 'Be1I2' 'Be1F3Li1' 'Al1Cl4K1' 'Al2Be1O4' 'B2H4O4' 'B2Mg1' 'Be1F2'\n",
      " 'B1H4Na1' 'Br2Ca1' 'Al1N1' 'Al1Cl6Na3' 'Ba1H2O2' 'Al1Br3' 'Br3Zr1'\n",
      " 'Br2Ti1' 'B1Ti1' 'Be2O4Si1' 'Br2Pb1' 'Al1' 'Br2Hg2' 'B1H3O3' 'Br3Ti1'\n",
      " 'C1Cu1N1' 'B1' 'Al1F6Na3' 'Ca1H2O2' 'B2Be3O6' 'Al1Cl4Na1' 'Al1Cl6K3'\n",
      " 'C0.98Nb1' 'Br2Hg1' 'Al1Cl1O1' 'Cl1H4N1O4' 'Be1F4Li2' 'C1Mg1O3' 'Br1H4N1'\n",
      " 'Ca1I2' 'Al1F6Li3' 'Br4Mo1' 'Ba1' 'Br4Ti1' 'Ba1Br2' 'Be1O4S1' 'Ba1F2'\n",
      " 'Ba1I2' 'Cl2Fe1' 'C1K1N1' 'Be1H2O2' 'Cs1' 'Al1H4Li1' 'C1Be2' 'Cr1'\n",
      " 'Cs2O4S1' 'Cl1Cu1' 'Cu1F2' 'Al2O3' 'B1N1' 'Co1O4S1' 'Cu1O1' 'Br1Na1'\n",
      " 'Cr2O3' 'Cs1F1' 'Cr2N1' 'Cl1Li1' 'Fe0.877S1' 'Cl1Na1' 'F2Hg1' 'Fe1H2O2'\n",
      " 'Cs1H1O1' 'Br3Mo1' 'Br2Sr1' 'Cl2Hg2' 'Fe1O1' 'Co1' 'Cl1Cs1' 'Cu1H2O2'\n",
      " 'Al1Li1O2' 'Co1F2' 'Br2Fe1' 'Fe1I2' 'Ga1' 'Cl1Li1O4' 'Cl2Cu1' 'Fe0.947O1'\n",
      " 'Be1Cl2' 'Cl1K1' 'F1Na1' 'H3O4P1' 'Fe3O4' 'H1Na1O1' 'Fe2O12S3' 'H1Na1'\n",
      " 'Cl1Na1O4' 'B1F4K1' 'Cu1O4S1' 'H1Li1' 'F2H1K1' 'B1H4Li1' 'Hg1O1' 'Be3N2'\n",
      " 'Fe1' 'I2Mo1' 'Cu1F1' 'Cr1N1' 'Fe1H3O3' 'I1Li1' 'Al1I3' 'Fe1S1'\n",
      " 'Al2Cl9K3' 'I2Pb1' 'I4Zr1' 'Hg1I2' 'H4I1N1' 'Hf1' 'F2Hg2' 'I2Sr1'\n",
      " 'C1K2O3' 'C1N1Na1' 'H2O4W1' 'Ca1S1' 'K2O4S1' 'I2Mg1' 'Mg1O3Si1' 'Li3N1'\n",
      " 'I2Zr1' 'H2Mg1' 'I2Ti1' 'H1K1' 'Mg1O4W1' 'I4Ti1' 'H1K1O1' 'I2' 'Mn1'\n",
      " 'F1K1' 'Li2O3Si1' 'K2O1' 'Mg1O4S1' 'Al1Na1O2' 'Mo1O2.889' 'Mo1O2.750'\n",
      " 'N0.465V1' 'Mg2O4Ti1' 'K1O2' 'Mo1O3' 'C1Na2O3' 'K2S1' 'Mo1S2' 'Li2O3Ti1'\n",
      " 'I4Mo1' 'Ba1S1' 'Na2O3Si1' 'I3Mo1' 'Mg1S1' 'Cu2O5S1' 'K2O2' 'Mg1O3Ti1'\n",
      " 'Na2S2' 'I3Ti1' 'Li2O2' 'I3Zr1' 'Al2Mg1O4' 'N1Ti1' 'N1V1' 'Na1O2' 'Ni1S1'\n",
      " 'Na2O1' 'I4Si1' 'B1Li1O2' 'O1Ti1' 'H1Li1O1' 'Nb1O1' 'F2Mg1' 'Nb1' 'O3Ti2'\n",
      " 'Ca1' 'Nb1O2' 'O3Pb1Si1' 'O4Pb3' 'O3W1' 'O7Ti4' 'K1' 'O4V2' 'O2.90W1'\n",
      " 'Ca1Cl2' 'Pb1' 'Na2O5Si2' 'O5Ti3' 'O5V2' 'Mg3N2' 'Mg2O4Si1' 'Mo1O2.875'\n",
      " 'Br1K1' 'Br2Mo1' 'Cl1H4N1' 'Cu1' 'F1Li1' 'Fe1S2' 'H2O2Sr1' 'I1K1' 'I1Na1'\n",
      " 'K2O3Si1' 'Li2O4S1' 'Li2O5Si2' 'Mg1' 'Mg2Si1' 'Mo2S3' 'N1Zr1' 'N2O4'\n",
      " 'N4Si3' 'N5P3' 'Na2O2' 'Na2S1' 'Nb2O5' 'Ni1' 'Ni1S2' 'Ni3S2' 'Ni3S4'\n",
      " 'O10P4' 'O1Pb1' 'O1Sr1' 'O1V1' 'O2.72W1' 'O2.96W1' 'O2Pb1' 'O2Si1'\n",
      " 'O2Ti1' 'O2Zr1' 'O3V2' 'O4Pb2Si1' 'O4S1Zn1' 'O4Si1Zr1' 'P1' 'P4S3'\n",
      " 'Pb1S1' 'Rb1' 'S1' 'S1Sr1' 'Sr1' 'Ti1' 'V1' 'W1' 'Zn1' 'Zr1'] \n"
     ]
    }
   ],
   "source": [
    "# first we get a list of the unique formula in the dataset.\n",
    "unique_f = X['Formula'].unique()\n",
    "print(f'There exist {len(unique_f)} unique formulae in the dataset: \\n\\n{unique_f} ')"
   ]
  },
  {
   "cell_type": "code",
   "execution_count": 17,
   "metadata": {},
   "outputs": [
    {
     "name": "stdout",
     "output_type": "stream",
     "text": [
      "Number of training formulae: 171\n",
      "Number of validation formulae: 49\n",
      "Number of testing formulae: 24\n"
     ]
    }
   ],
   "source": [
    "# Set a random seed to ensure reproducibility across runs\n",
    "np.random.seed(seed=42)\n",
    "\n",
    "# Store a list of all unique formulae\n",
    "all_formulae = unique_f.copy()\n",
    "\n",
    "# Define the proportional size of the dataset split\n",
    "val_size = 0.20\n",
    "test_size = 0.10\n",
    "train_size = 1 - val_size - test_size\n",
    "\n",
    "# Calculate the number of samples in each dataset split\n",
    "num_val_samples = int(round(val_size * len(unique_f)))\n",
    "num_test_samples = int(round(test_size * len(unique_f)))\n",
    "num_train_samples = int(round((1 - val_size - test_size) * len(unique_f)))\n",
    "\n",
    "# Randomly choose the formulate for the validation dataset, and remove those from the unique formulae list\n",
    "val_formulae = np.random.choice(all_formulae, size=num_val_samples, replace=False)\n",
    "all_formulae = [f for f in all_formulae if f not in val_formulae]\n",
    "\n",
    "# Randomly choose the formulate for the test dataset, and remove those from the unique formulae list\n",
    "test_formulae = np.random.choice(all_formulae, size=num_test_samples, replace=False)\n",
    "all_formulae = [f for f in all_formulae if f not in test_formulae]\n",
    "\n",
    "# The remaining formulae will be used for the training dataset\n",
    "train_formulae = all_formulae.copy()\n",
    "\n",
    "print('Number of training formulae:', len(train_formulae))\n",
    "print('Number of validation formulae:', len(val_formulae))\n",
    "print('Number of testing formulae:', len(test_formulae))"
   ]
  },
  {
   "cell_type": "code",
   "execution_count": 18,
   "metadata": {},
   "outputs": [
    {
     "name": "stdout",
     "output_type": "stream",
     "text": [
      "train dataset shape: (3221, 3)\n",
      "validation dataset shape: (982, 3)\n",
      "test dataset shape: (370, 3)\n",
      "\n"
     ]
    }
   ],
   "source": [
    "# Split the original dataset into the train/validation/test datasets using the formulae lists above\n",
    "data_train = data[data['Formula'].isin(train_formulae)]\n",
    "data_val = data[data['Formula'].isin(val_formulae)]\n",
    "data_test = data[data['Formula'].isin(test_formulae)]\n",
    "\n",
    "print(f'train dataset shape: {data_train.shape}')\n",
    "print(f'validation dataset shape: {data_val.shape}')\n",
    "print(f'test dataset shape: {data_test.shape}\\n')"
   ]
  },
  {
   "cell_type": "markdown",
   "metadata": {},
   "source": [
    "### Save split datasets to csv\n"
   ]
  },
  {
   "cell_type": "code",
   "execution_count": 19,
   "metadata": {},
   "outputs": [],
   "source": [
    "data_train.to_csv(r'C:\\Users\\HP\\Documents\\Cleaned Cp\\cp_data_train.csv', index=False)\n",
    "data_val.to_csv(r'C:\\Users\\HP\\Documents\\Cleaned Cp\\cp_data_val.csv', index=False)\n",
    "data_test.to_csv(r'C:\\Users\\HP\\Documents\\Cleaned Cp\\cp_data_test.csv', index=False)"
   ]
  }
 ],
 "metadata": {
  "kernelspec": {
   "display_name": "Python 3",
   "language": "python",
   "name": "python3"
  },
  "language_info": {
   "codemirror_mode": {
    "name": "ipython",
    "version": 3
   },
   "file_extension": ".py",
   "mimetype": "text/x-python",
   "name": "python",
   "nbconvert_exporter": "python",
   "pygments_lexer": "ipython3",
   "version": "3.7.8"
  }
 },
 "nbformat": 4,
 "nbformat_minor": 4
}
